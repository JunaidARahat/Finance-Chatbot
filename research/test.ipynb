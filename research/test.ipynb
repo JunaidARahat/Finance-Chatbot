{
 "cells": [
  {
   "cell_type": "code",
   "execution_count": 20,
   "metadata": {},
   "outputs": [],
   "source": [
    "from langchain_astradb import AstraDBVectorStore\n",
    "from langchain_openai import OpenAIEmbeddings\n",
    "from dotenv import load_dotenv\n",
    "import os\n",
    "import pandas as pd"
   ]
  },
  {
   "cell_type": "code",
   "execution_count": 21,
   "metadata": {},
   "outputs": [
    {
     "data": {
      "text/plain": [
       "True"
      ]
     },
     "execution_count": 21,
     "metadata": {},
     "output_type": "execute_result"
    }
   ],
   "source": [
    "load_dotenv()"
   ]
  },
  {
   "cell_type": "code",
   "execution_count": 22,
   "metadata": {},
   "outputs": [],
   "source": [
    "OPENAI_API_KEY=os.getenv(\"OPENAI_API_KEY\")"
   ]
  },
  {
   "cell_type": "code",
   "execution_count": 23,
   "metadata": {},
   "outputs": [],
   "source": [
    "os.environ[\"OPENAI_API_KEY\"]=OPENAI_API_KEY"
   ]
  },
  {
   "cell_type": "code",
   "execution_count": 24,
   "metadata": {},
   "outputs": [],
   "source": [
    "embedding = OpenAIEmbeddings()"
   ]
  },
  {
   "cell_type": "code",
   "execution_count": 25,
   "metadata": {},
   "outputs": [],
   "source": [
    "ASTRA_DB_API_ENDPOINT=\"https://e98de4e8-d590-4e73-a591-099df7e8f17e-us-east-2.apps.astra.datastax.com\""
   ]
  },
  {
   "cell_type": "code",
   "execution_count": 26,
   "metadata": {},
   "outputs": [],
   "source": [
    "ASTRA_DB_APPLICATION_TOKEN=\"AstraCS:lpGgsyroHrxeqKmIOqAafttk:2a77c73956b011aa623099484bdc0914f50b8e54b4bfec75bc2719d1f570c0f2\""
   ]
  },
  {
   "cell_type": "code",
   "execution_count": 27,
   "metadata": {},
   "outputs": [],
   "source": [
    "ASTRA_DB_KEYSPACE= \"default_keyspace\""
   ]
  },
  {
   "cell_type": "code",
   "execution_count": 28,
   "metadata": {},
   "outputs": [],
   "source": [
    "collection_name= \"financebot\""
   ]
  },
  {
   "cell_type": "code",
   "execution_count": 29,
   "metadata": {},
   "outputs": [],
   "source": [
    "vstore = AstraDBVectorStore(\n",
    "    embedding= embedding,\n",
    "    collection_name= collection_name,\n",
    "    api_endpoint=ASTRA_DB_API_ENDPOINT,\n",
    "    token=ASTRA_DB_APPLICATION_TOKEN,\n",
    "    namespace=ASTRA_DB_KEYSPACE\n",
    "    )"
   ]
  },
  {
   "cell_type": "code",
   "execution_count": 30,
   "metadata": {},
   "outputs": [],
   "source": [
    "from langchain_community.document_loaders import PyPDFLoader"
   ]
  },
  {
   "cell_type": "code",
   "execution_count": 31,
   "metadata": {},
   "outputs": [],
   "source": [
    "loader = PyPDFLoader(r\"D:\\Finance Bot July 2024\\Finance-Chatbot\\data\\finance-data.pdf\")"
   ]
  },
  {
   "cell_type": "code",
   "execution_count": 32,
   "metadata": {},
   "outputs": [],
   "source": [
    "pages = loader.load()"
   ]
  },
  {
   "cell_type": "code",
   "execution_count": 33,
   "metadata": {},
   "outputs": [
    {
     "data": {
      "text/plain": [
       "108"
      ]
     },
     "execution_count": 33,
     "metadata": {},
     "output_type": "execute_result"
    }
   ],
   "source": [
    "len(pages)"
   ]
  },
  {
   "cell_type": "code",
   "execution_count": 34,
   "metadata": {},
   "outputs": [],
   "source": [
    "pages=pages[10:20]"
   ]
  },
  {
   "cell_type": "code",
   "execution_count": 35,
   "metadata": {},
   "outputs": [
    {
     "data": {
      "text/plain": [
       "'Table of Contents \\n9 understand root causes. Our full-reticle CV test chips use a sh ortened process flow to provide a faster \\nlearning cycle for speci fic process modules. \\n\\uf0a7 Our Scribe CV test chips are inserted directly on customers’ pr oduct wafers to collect data about critical \\nlayers. \\n\\uf0a7 Our DirectProbe™ CV test chips are designed to enable ultra-fas t yield learning for new product designs \\nby allowing our customers to measure components of actual produ ct layout and identify yield issues. \\n• pdFasTest ® Electrical Tester – Our proprietary electrical test hardware is optimized to quickl y test our CV test \\nchips, enabling fast defect and p arametric characterization of manufacturing processes. As part of the system \\noffering, we provide test progr ams for each CV test chip that a re tuned to the customer’s process. This automated \\nsystem provides parallel functional testing, thus minimizing th e time required to perform millions of electrical \\nmeasurements to test our CV test chips. We provide services to analyze the unique, differentiated data output of \\nthis tester using the Exensio Characterization software to prov ide actionable insights to our customers. \\n• Exensio Characterization software – This module, which is designed to integrate seamlessly with the  rest of the \\nExensio software, collects the da ta generated from our CV test products, generating models of the performance \\neffects of process variations on these design building blocks. As part of the system offering, we also offer analysis \\nservices, if the customer elects not to do such analysis itself . \\nCimetrix® Software Products . Our Cimetrix software products enable equipment manufacturers  in the semiconductor \\nand electronics industries to provide standard interfaces on th eir products for efficient equi pment communication, control, \\nand data collection. Numerous industry standards have been esta blished for equipment connectivity and control, including \\nthe SEMI (Semiconductor Equipment and Materials International) defined SECS (SEMI Equipment Communication \\nStandard), GEM (Generic Equipment Model), GEM300, and EDA (equi pment data acquisition) standards. Our Cimetrix \\nproducts are designed to fully support these industry standards  to enable equipment manufacturers to implement robust, \\nturnkey support for these connectivity and control standards wi thout needing to invest engineering resources to develop \\ntheir own interfaces to these standards. Factories that purchas e manufacturing equipment enabled with Cimetrix-supported \\ninterfaces, benefit from consist ent and robust implementations of industry standards, enabling faster and more efficient \\nimplementation of smart manufacturing initiatives that depend o n the collection and analysis of manufacturing and product \\ndata. Cimetrix products are sold via perpetual licenses and typ ically sold as part of a softw are development kit (“SDK”) \\nthat helps equipment manufacturers implement them quickly. We c harge a one-time fee per equipment product type for \\nthe SDK license and a one-time fee for each piece of equipment shipped that includes the Cimetrix runtime license. \\n• Equipment Factory Connectivity – Our products for equipment factory connectivity primarily inclu de the \\nfollowing:  \\n\\uf0a7 Cimetrix CIMConnect ™ is a SEMI SECS/GEM interface to the factory host for automate d control and \\ndata collection. The Cimetrix CIMConnect module supports multip le-host interfaces simultaneously, \\nwhich allows customers to support legacy, custom, and GEM inter faces. Cimetrix CIMConnect is used \\nin semiconductor wafer fabrication, semiconductor back-end (tes t, assembly, and packaging), PV, HB-\\nLED, disk drive, flat panel displays, printed circuit boards an d other electronics manufacturing. In \\naddition to enabling the implementation of the SEMI SECS/GEM st andards E4, E5, E30, E37, E172, \\nand E173, Cimetrix CIMConnect also supports SEMI PV2 (PVECI), A 3 (PCBECI), and HB4 (HB-LED \\nECI) standards. \\n\\uf0a7 Cimetrix CIM300 ™ is a GEM interface for 300mm equipment using SEMI standards, including E39, \\nE40, E87, E90, E94, E116, E148, and E157. These SEMI standards allow for the full automation \\nrequired in manufacturing 300mm wafers. Cimetrix CIM300 manages  the interdependencies between \\nthe standards and simp lifies complex scenarios for easy impleme ntation of the standards. These \\nGEM300 standards are required for full automation in manufactur ing of 300mm wafers. Cimetrix '"
      ]
     },
     "execution_count": 35,
     "metadata": {},
     "output_type": "execute_result"
    }
   ],
   "source": [
    "pages[0].page_content"
   ]
  },
  {
   "cell_type": "code",
   "execution_count": 36,
   "metadata": {},
   "outputs": [
    {
     "name": "stdout",
     "output_type": "stream",
     "text": [
      "0 page_content='Table of Contents \\n9 understand root causes. Our full-reticle CV test chips use a sh ortened process flow to provide a faster \\nlearning cycle for speci fic process modules. \\n\\uf0a7 Our Scribe CV test chips are inserted directly on customers’ pr oduct wafers to collect data about critical \\nlayers. \\n\\uf0a7 Our DirectProbe™ CV test chips are designed to enable ultra-fas t yield learning for new product designs \\nby allowing our customers to measure components of actual produ ct layout and identify yield issues. \\n• pdFasTest ® Electrical Tester – Our proprietary electrical test hardware is optimized to quickl y test our CV test \\nchips, enabling fast defect and p arametric characterization of manufacturing processes. As part of the system \\noffering, we provide test progr ams for each CV test chip that a re tuned to the customer’s process. This automated \\nsystem provides parallel functional testing, thus minimizing th e time required to perform millions of electrical \\nmeasurements to test our CV test chips. We provide services to analyze the unique, differentiated data output of \\nthis tester using the Exensio Characterization software to prov ide actionable insights to our customers. \\n• Exensio Characterization software – This module, which is designed to integrate seamlessly with the  rest of the \\nExensio software, collects the da ta generated from our CV test products, generating models of the performance \\neffects of process variations on these design building blocks. As part of the system offering, we also offer analysis \\nservices, if the customer elects not to do such analysis itself . \\nCimetrix® Software Products . Our Cimetrix software products enable equipment manufacturers  in the semiconductor \\nand electronics industries to provide standard interfaces on th eir products for efficient equi pment communication, control, \\nand data collection. Numerous industry standards have been esta blished for equipment connectivity and control, including \\nthe SEMI (Semiconductor Equipment and Materials International) defined SECS (SEMI Equipment Communication \\nStandard), GEM (Generic Equipment Model), GEM300, and EDA (equi pment data acquisition) standards. Our Cimetrix \\nproducts are designed to fully support these industry standards  to enable equipment manufacturers to implement robust, \\nturnkey support for these connectivity and control standards wi thout needing to invest engineering resources to develop \\ntheir own interfaces to these standards. Factories that purchas e manufacturing equipment enabled with Cimetrix-supported \\ninterfaces, benefit from consist ent and robust implementations of industry standards, enabling faster and more efficient \\nimplementation of smart manufacturing initiatives that depend o n the collection and analysis of manufacturing and product \\ndata. Cimetrix products are sold via perpetual licenses and typ ically sold as part of a softw are development kit (“SDK”) \\nthat helps equipment manufacturers implement them quickly. We c harge a one-time fee per equipment product type for \\nthe SDK license and a one-time fee for each piece of equipment shipped that includes the Cimetrix runtime license. \\n• Equipment Factory Connectivity – Our products for equipment factory connectivity primarily inclu de the \\nfollowing:  \\n\\uf0a7 Cimetrix CIMConnect ™ is a SEMI SECS/GEM interface to the factory host for automate d control and \\ndata collection. The Cimetrix CIMConnect module supports multip le-host interfaces simultaneously, \\nwhich allows customers to support legacy, custom, and GEM inter faces. Cimetrix CIMConnect is used \\nin semiconductor wafer fabrication, semiconductor back-end (tes t, assembly, and packaging), PV, HB-\\nLED, disk drive, flat panel displays, printed circuit boards an d other electronics manufacturing. In \\naddition to enabling the implementation of the SEMI SECS/GEM st andards E4, E5, E30, E37, E172, \\nand E173, Cimetrix CIMConnect also supports SEMI PV2 (PVECI), A 3 (PCBECI), and HB4 (HB-LED \\nECI) standards. \\n\\uf0a7 Cimetrix CIM300 ™ is a GEM interface for 300mm equipment using SEMI standards, including E39, \\nE40, E87, E90, E94, E116, E148, and E157. These SEMI standards allow for the full automation \\nrequired in manufacturing 300mm wafers. Cimetrix CIM300 manages  the interdependencies between \\nthe standards and simp lifies complex scenarios for easy impleme ntation of the standards. These \\nGEM300 standards are required for full automation in manufactur ing of 300mm wafers. Cimetrix ' metadata={'source': 'D:\\\\Finance Bot July 2024\\\\Finance-Chatbot\\\\data\\\\finance-data.pdf', 'page': 10}\n",
      "1 page_content='Table of Contents \\n10 CIM300 works with Cimetrix CIMConnect to implement the GEM300 a nd the original GEM suite of \\nstandards. \\n\\uf0a7 Cimetrix CIMPortal ™ Plus is an interface for EDA, also kn own as Interface A. The EDA st andards are \\nE120, E125, E132, E134, E138, E 147, and E164. Cimetrix CIMPorta l Plus implements the EDA \\nstandards in a flexible architect ure that collects data from mu ltiple sources and routes the data to multiple \\nclients simultaneously. Factorie s can use the data gathered thr ough EDA interfaces for FDC, run-to-run \\nadvanced process control, equipment health monitoring, chamber/ tool matching, predictive \\nmaintenance, virtual metrology, diagnostics, and many other equ ipment-related analytical applications. \\n• Equipment Factory Connectivity Testing –  We provide the following produc ts for testing the interfaces d eveloped \\nusing our equipment factory connectivity products: Cimetrix Equ ipmentTest™, for testing and validating \\ncompliance with the GEM and GEM300 standards, Cimetrix EDATeste r™, for testing and validating compliance \\nwith the EDA/Interface A standard s, and performan ce testing of the interface, and Cimetrix ECCE Plus™ for \\nquick testing of the EDA /Interface A interface.  \\n• Equipment Control –  Our equipment control product is the Cimetrix CIMControlFramew ork™ (“Cimetrix CCF”) \\nsoftware, which includes components for supervisory control, ma terial handling, operator interface, platform \\ncontrol, and factory automation requirements, to allow equipmen t manufacturers to meet the requirements of \\nfabrication facilities. Developer s can leverage framework compo nents through configuration and extension or \\ncustomize the framework when unique requirements exist. Cimetri x CCF is designed to allow data generated at \\nany point on the equipment to be quickly and easily accessed by  other modules or external applications. Cimetrix \\nCIMConnect, Cimetrix CIM300, and Cimetrix CIMPortal Plus are in tegrated with Cimetrix CCF to support the \\nSEMI GEM, GEM300, and E DA/Interface A standards.  \\nServices \\nOur services are almost always s old together with, or to suppor t, our products and include the following: \\nSoftware-as-a-Service –  We provide services to make our  Exensio software available to our customers via the Internet, \\ngenerally hosted by third-party providers. SaaS is considered p art of cloud computing since the software is hosted on the \\nInternet, or the “cloud.” Since  our SaaS applications are acces sed from a remote server rather than installed on individual \\nmachines, it is easier to maintain. For example, when the remot e software is updated, the customer’s interface is also \\nupdated for all users. Cloud computing is designed to eliminate  incompatibilities between differ ent software versions and \\nallow us to make incremental updates without requiring software  downloads. Additionally, our customers can save data to \\na central online location, which is designed to allow increased  project collaboration. As part of these services, we also \\ntypically provide hosted management services for the software a nd the customer’s data stored in our cloud. These services \\ninclude environment set-up and configuration, system health mon itoring, data integration maintenance, integration \\nmonitoring, system updates, security, and data upload/download,  and license administration. \\nSoftware Related Services  – We provide software maintenance and support (“M&S”), data ma nagement services, \\nvarious value-added services (“VAS”) to install, configure, or create analysis templates, and other professional services to \\nachieve customers’ specific outcomes using our software. We cal l this last type of services our solutions offering and, in \\nthese cases, we tailor the use of  one or more Exensio products to achieve a desired result. For example, our AIM \\nYieldAware™ FDC solution offering is designed to identify the p rocess control variables that have the greatest impact on \\nproduct yield through professional services that analyze the da ta from both Exensio Proce ss Control and elements of \\nExensio Manufacturing Analytics and make recommendations for th e customer to implement. VAS are provided by our \\nprofessional service personnel w ith expertise that enhances and  complements the engineering teams at our customers. For \\nexample, VAS includes our data cleaning and monitoring services . One requirement of big data analytics is to have clean, \\nharmonized data to analyze. This service offering outsources th e data wrangling and management effort to free the \\ncustomer to focus their efforts on analysis, which has a greate r ROI to the company than data management. \\nCharacterization Services  – These services are designed to characterize key product and/ or process elements, \\nprimarily into CV test structures  or DFI on-chip measurement in struments, and typically do not include performance ' metadata={'source': 'D:\\\\Finance Bot July 2024\\\\Finance-Chatbot\\\\data\\\\finance-data.pdf', 'page': 11}\n",
      "2 page_content='Table of Contents \\n11 incentives based on the customers’ yield achievement. We provid e these services, typically together with all elements of \\nour CV system, to foundry customers in connection with new proc ess technology development and/or yield ramp. In \\nCharacterization engagements, we generally provide the analysis  of our CV test chips and provide summary findings and \\nrecommendations to the customer. Characterization engagements c an include DFI systems. \\nCustomers \\nOur existing customers include f oundries, IDMs, fabless semicon ductor design companies, OSATs, equipment \\nmanufacturers, EMS, and ODMs, including those that embed and di stribute our Assembly Operations modules in their \\nequipment. Our semiconductor customers’ targeted product segmen ts vary significantly, including microprocessors, \\nmemory, graphics, image sensor solutions, and communications. W e believe that the adoption of our solutions by such \\ncompanies for usage in a wide range of products validates the a pplication of our solutions to the broader semiconductor \\nmarket. We often have multiple contracts with a single customer  or customer group, with no in terdependent performance \\nobligations. In general, our customer contracts are non-cancell able. \\nOne customer accounted for 35% of  our revenues for 2023, two cu stomers accounted for 41% of our revenues for \\n2022 and two customers accounted for 27% of our revenues for 20 21. No other customers accounted for 10% or more of \\nour revenues in 2023, 2022 and 2021. Also, two customers accoun ted for 50% of our gross accounts receivable as of \\nDecember 31, 2023, and three cust omers accounted for 53% of our  gross accounts receivable as of December 31, 2022. \\nWe generally do not require collateral or other security to sup port accounts receivable. See the discussion in “Risk Factors” \\nunder Item 1A for more information about risks associated with customer concentration and contractual provisions. \\nInternational revenues accounted for approximately 44%, 50% and  55% of our total revenues for 2023, 2022 and \\n2021, respectively. We base these calculations on the geographi c location of where the work is performed or where the \\ncustomer is located. Revenues from customers by geographic area  based on the location of the customers’ work sites for \\nthe last three fiscal years can be  found in Note 11, “Customer and Geographic Information” to the consolidated financial \\nstatements. Additional discussion  regarding the risks associate d with international operations can be found under Item 1A, \\n“Risk Factors”. \\nSee our “Notes to Consolidated F inancial Statements”, included under Part II, Item 8. “Financial Statements and \\nSupplementary Data” for additional geographic information. \\nSales and Marketing \\nOur sales strategy is primarily  to pursue targeted accounts thr ough a combination of our direct sales force, our service \\nteams, and strategic alliances. After we are engaged by a custo mer and early in the services p rocess, our engineers seek to \\nestablish relationships in the organization and gain an underst anding of our customers’ business issues. Our direct sales \\nand service teams combine their efforts to deepen our customer relationships by expanding our penetration across \\ncustomers’ products, processes, and technologies. This close wo rking relationship with each customer has the added \\nbenefit of helping us to identify new product areas and technol ogies in which we should next focus our research and \\ndevelopment efforts. From time-to -time, we use sales representa tives/agents in various locations to augment direct sales \\nin certain territories.  \\nWe expect to continue to establish strategic alliances with pro cess licensors, vendors in the electronic design \\nautomation software, capital equipment for IC production, and t est silicon IP and mask-making s oftware segmen ts to create \\nand take advantage of sales channel and co-marketing opportunit ies. Additionally, we expect to form relationships with \\nkey value chain participants, including foundries and OSATs, to  provide services and value across the manufacturing \\nsupply chain. \\nResearch and Development \\nOur research and development focuses on developing and introduc ing new proprietary technologies for our \\ncomprehensive platform, including our Exensio software, Cimetri x connectivity and control products, and DFI and CV \\nsystems, as well as other software products and enhancements to  our existing solutions, such as field applications for DFI ' metadata={'source': 'D:\\\\Finance Bot July 2024\\\\Finance-Chatbot\\\\data\\\\finance-data.pdf', 'page': 12}\n",
      "3 page_content='Table of Contents \\n12 and CV and new applications targeted to inter-operate with stra tegic partner products. We use a rapid-prototyping \\nparadigm in the context of the customer engagement to achieve t hese goals. We have made, and expect to continue to \\nmake, substantial investments in research and development. The complexity of our technologies requires expertise in \\nstandards, physical IC design and layout, transistor design and  semiconductor physics, semiconductor process integration, \\nnumerical algorithms, e-beam tech nology, hardware, statistics a nd software development. We believe that our team of \\nengineers will continue to advance our market and technological  leadership. We conduct in-house training for our \\nengineers in certain technical ar eas. Our training also extends  to focusing on ways to enhance customer service skills. \\nAlthough it fluctuates, we can have up to one quarter of our re search and development engineers assigned to one or more \\nprojects, partnered with solutio n services engineers, in a deli berate strategy to provide direct feedback between technology \\ndevelopment and customer needs. We also utilize a variety of sk illed independent contractors for specialized development. \\nCompetition \\nThe semiconductor industry is highly competitive and driven by rapidly changing design and process technologies, \\nevolving standards, short product life cycles, and decreasing p rices. We expect market competition to continue to develop \\nand increase as the market for data and analytics continues to evolve. We believe IC companies benefit from a combination \\nof big data management infrastructure, AI/ML-based analytics en gines, and products that generate and collect \\ndifferentiated data that enrich the analytics process. Currentl y, we are a leading provider o f comprehensive commercial \\nhardware, software and IP solutions for optimizing and improvin g design, manufacturing and test operations processes \\nthrough the application of differentiated data and advanced ana lytics. As a result, we face c ompetition from three primary \\ngroups: internal customer development or design programs, equip ment solutions providers, and providers of analytical and \\ndesign software. We face indir ect competition from internal gro ups at IC companies that offer tools with varying degrees \\nof optimization to accelerate pr ocess-design integration or tes t operations. Some providers of semiconductor \\nmanufacturing software, inspection equipment, electronic design  automation, or design IP may seek to broaden their \\nproduct offerings and compete with us. In addition, companies p roviding general ML and analytics software may focus on \\nsemiconductor companies and comp ete with us. In each of the mar ket segments we compete in, we face competition from \\nestablished and potential competitors, some of whom may have gr eater financial, research, engineering, manufacturing \\nand marketing resources than we have. \\nWe currently face indirect compe tition from the i nternal groups  at IC companies and direct competition from providers \\nof (i) yield management and/or prediction systems, such as KLA Corporation (“KLA”), Siemens AG (“Siemens”), Onto \\nInnovation, Inc. (“Onto”), and Synopsys, Inc. (“Synopsys”); (ii ) semiconductor manufacturing software, such as Applied \\nMaterials, Inc (“Applied Materials”), Synopsys, Invantest, Inc. , Emerson Electric Co., Onto,  and Siemens; (iii) inline \\ninspection, metrology and electrical test equipment providers, such as ASML Holding N.V. (“ASML”), Applied Materials, \\nKLA, and Keysight Technologies, Inc.; and, (iv) connectivity so ftware or integration products/services supporting factory \\nequipment connectivity or control needs of customers, such as P E E R  G r o u p ,  I n c . ,  K o n t r o n  A I S ,  G m b H ,  Y o k o g a w a  \\nElectric Corp., Advantest, and Kornic Automation Co. Ltd. There  may be other providers of competitive commercial \\nsolutions of which we are not aware, and we may compete with th e products or offerings of these named companies or \\nadditional companies if we expa nd our offerings through acquisi tions or development. For example, since our acquisition \\nof Cimetrix in late 2020, we now face competition in the produc ts/services supporting the connectivity, control and \\nintegration of factory equipment. The demand for solutions that  address the need for better integration between the silicon \\ndesign and manufacturing processes may encourage direct competi tors to enter our market. For example, in 2020, two of \\nour competitors were acquired by larger entities, Synopsys acqu ired Qualtera and NI, Inc. acquired Optimal+, and each \\nhas increased marketing or pricing competition with us. For exa mple, in 2023, Emerson Electric Co. acquired NI, Inc. This \\ncompetition in our market may intensify in the future, which co uld lead to increased pricing pressure, negatively impacting \\nour revenues, and slow our ability to grow or execute our strat egy. Also, our current and potential customers may choose \\nto develop their own solutions internally, particularly if we a re slow in deploying our solutions or improving them to meet \\nmarket needs. These and other competitors may be able to operat e  w i t h  a  l o w e r  c o s t  s t r u c t u r e  t h a n  o u r  e n g i n e e r i n g  \\norganization, which would give any such competitor’s products a  competitive advantage over our solutions. \\nWe believe that our solutions compare favorably with respect to  competition because we have demonstrated results \\nand reputation, strong core technology, ability to create innov ative technology, and ability to implement solutions for new \\ntechnology and product generations. See the discussions in “Ris k Factors” under Item 1A for more information about risks \\nassociated with our competition. ' metadata={'source': 'D:\\\\Finance Bot July 2024\\\\Finance-Chatbot\\\\data\\\\finance-data.pdf', 'page': 13}\n",
      "4 page_content='Table of Contents \\n13 Human Capital Management \\nWe believe that our future success will depend, in part, on our  continued ability to hire and retain qualified \\nmanagement, sales, and technical employees. Consequently, we se ek to engage in sound ethical and organizational \\ngovernance, promote business et hics and integrity, and embrace equality, diversity, and inclusion throughout our \\norganization. \\nAs of December 31, 2023, we had 493 employees worldwide, includ ing 171 field application engineers and \\nconsultants, 155 in research and development, 106 in sales and marketing, and 61 in general and administrative functions. \\nOf these employees, 285 are lo cated in the United States, 172 i n Asia, and 36 in Europe. \\nNone of our employees are represented by a labor union. Our emp loyees in France and Italy are subject to collective \\nbargaining agreements in those countries. \\nOur commitment to human capital management  is embedded in our governance structure \\nAt the Board level, our Compensation and Human Capital Manageme nt Committee is tasked with oversight of the \\ndevelopment, implementation and effectiveness of our policies a nd strategies relating to human capital management, \\nincluding strategies regarding recruiting, selection, career de velopment and progression, and diversity and employment \\npractices. Further, our Nominatin g and Corporate Governance Com mittee is tasked with primary oversight for governance \\nand ESG issues. \\nTalent Development \\nWe are committed to the development and growth of our employees  because we believe this is crucial for our long-\\nterm success. This includes offering training, mentorship, and other development opportunities to further enhance the \\ntalent we have today, but also entails having the right skill s ets for our future. \\nTo this end, we are working to implement a planned set of actio ns around increasing formal programs to achieve these \\ngoals. We believe that our team o f engineers will continue to a dvance our market and technol ogical leadership. We conduct \\nin-house training for our engin eers in certain technical areas.  \\nWe also fund attendance at continuing education courses, sympos ia, and participation in professional organizations. \\nEmployee Engagement \\nEmployee engagement is crucial for the overall health of the or ganization. In 2023, we conducted a survey of all our \\nemployees to assess overall employee engagement. \\nIn addition to our efforts to address employee engagement, we a re committed to supporting our employees and \\ncreating an engaged workforce by  prioritizing the items below: \\n• personal growth through training and development; \\n• recognizing and rewarding our peo ple for their commitment to ou r values and our organization; \\n• flexible work locations and schedules; and \\n• providing a sense of organizational community by hosting online  as well as in-person events where our people \\ncan gather and connect. ' metadata={'source': 'D:\\\\Finance Bot July 2024\\\\Finance-Chatbot\\\\data\\\\finance-data.pdf', 'page': 14}\n",
      "5 page_content='Table of Contents \\n14 Health and Safety \\nWe are committed to ensuring that proper working conditions exi s t  f o r  t h e  s a f e t y  o f  o u r  e m p l o y e e s ,  s u c h  a s  \\ndeveloping, implementing, and improving health and safety syste ms and conditions, and providing appropriate \\npreparation, education, reporting, and controls. \\nDiversity, Equity, and Inclusion \\nWe work to ensure that our business practices support diversity  and inclusion to build an innovative workforce and to \\nstrive toward having our organization reflect the complexion of  o ur c u s t om e r s  a n d s up pl i e rs .  In F e br ua r y 2 02 4,  a ft e r  \\nconsidering the recommendation of the Nominating and Corporate Governance Committee, the Compensation and Human \\nCapital Management Committee approved, and then our Board adopt ed, a Human Rights policy and a Diversity, Equity, \\nand Inclusion (“DEI”) Policy to b etter implement our core value s and relevant standards into our governance structure.  \\nWe are strengthening our diversity and inclusion programs with actions around organizational training, on-going \\neducation and focus on our company values, and a revitalized re cruitment strategy. \\nWe value a range of diverse perspectives with reference to our business model and specific needs, including, but not \\nlimited to, gender, age, race, lan guage, cultura l background, e ducational background, industry experience, professional \\nexperience, and veteran and activ e armed service status or othe r similar characteristics.  \\nInformation about our Executive Officers \\nThe following table and notes set forth information about our c urrent executive officers as of the date of this \\nForm 10  -  K. \\n   \\nName       Age      Position\\nJ o h n  K .  K i b a r i a n ,  P h . D .  .....  5 9  P r e s i d e n t ,  C h i e f  E x e c u t i v e  O f ficer, and Directo r \\nA d n a n  R a z a  ...............  5 1  E x e c u t i v e  V i c e  P r e s i d e n t ,  F i n a n c e and Chief Financial Office r\\nK i m o n  W .  M i c h a e l s ,  P h . D .  ...  5 7  E x e c u t i v e  V i c e  P r e s i d e n t ,  P r o d ucts and Solutions and Directo r\\nAndrze j Stro jw a s ,  P h . D .  .....  7 1  C h i e f  T e c h n o l o gy Office r\\nJohn K. Kibarian, Ph.D. , one of our founders, has served as President since November 1 991 and has served as our \\nChief Executive Officer since July  2000. Dr. Kibarian has serve d as a director on our Board of Directors since \\nDecember 1992. Dr. Kibarian recei ved a B.S. in Electrical Engin eering, an M.S. E.C.E. and a Ph.D. E.C.E. from Carnegie \\nMellon University. \\nAdnan Raza , joined in January 2020 as Executive Vice President, Finance, and was appointed Chief Financial Officer \\neffective in March 2020. Prior t o joining the Company, Mr. Raza  served as an independent strategy consultant for private \\nand public companies from July 2019 to January 2020. Prior to t hat, Mr. Raza served in various roles at Synaptics Inc., a \\ndeveloper of human interface technologies, including as Senior Vice President of Corporate Development from \\nAugust 2017 to June 2019 and Vice President of Corporate Develo pment from February 2015 to August 2017. Prior roles \\ninclude technology investment banking at Goldman, Sachs & Co. a nd UBS Investment Bank, strategic advising at \\nBlackreef Capital, engineering and  marketing at Azanda Network Devices, and engineering at Lucent Technologies. \\nMr. Raza also served as a Board M ember at FIDO Alliance, an all iance of leading technology companies to enhance user \\nsecurity and authentication. Mr . Raza holds an M.B.A. from The Wharton School at the University of Pennsylvania, a \\nM. Eng. in Electrical Engineerin g from Cornell University, and a B.S. in Electrical Engineering from Valparaiso \\nUniversity. \\nKimon W. Michaels, Ph.D. , one of our founders, has served as Vice President, Products a nd Solutions since July 2010 \\nand was designated as an Executive VP in February 2019. Dr. Mic haels served as Vice President, Design for \\nManufacturability from June 2007 through June 2010. Prior to th at, Dr. Michaels served as Vice President, Field \\nOperations for Manufacturing Process Solutions from January 200 6 through May 2007, and has served as a director on \\nour Board of Directors since November 1995. From March 1993 thr ough December 2005, he served in various vice \\npresidential capacities. He also served as Chief Financial Offi cer of the Company from November 1995 to July 1998. \\nDr. Michaels received a B.S. in Electrical Engineering, and M.S . E.C.E. and a Ph.D. E.C.E. from Carnegie Mellon \\nUniversity. ' metadata={'source': 'D:\\\\Finance Bot July 2024\\\\Finance-Chatbot\\\\data\\\\finance-data.pdf', 'page': 15}\n",
      "6 page_content='Table of Contents \\n15 Andrzej Strojwas, Ph.D. , served as a technical advisor to the Company from our foundin g until 2021 and as chief \\ntechnologist from 1997 to 2021. He joined the Company as an emp loyee in July 2021 as Vice President and Technical \\nGeneral Manager, and was appointed Chief Technology Officer eff ective December 2021. From October 1982 to \\nJuly 2021, Dr. Strojwas was the Keithley Professor of Electrica l and Computer Engineering at Carnegie Mellon \\nUniversity. In addition, Dr. Strojwas has held senior technical  positions at Harris Semiconductor Co., AT&T Bell Labs, \\nTexas Instruments, NEC, Hitachi, SEMATECH, and KLA. He holds an  M.S. in Electronic Engineering from Warsaw \\nTechnical University and a Ph.D. in Electrical Engineering from  Carnegie Mellon University. \\nAvailable Information \\nWe file or furnish various reports, such as registration statem ents, periodic and current reports, proxy statements and \\nother materials with the SEC. Our Internet website address is w ww.pdf.com. You may obtain, free of charge on our \\nwebsite, copies of our annual reports on Form 10  -  K, quarterly reports on Form 10  -  Q, current reports on Form 8  -  K, and \\namendments to those reports filed or furnished pursuant to Sect ion 13(a) or 15(d) of the Exchange Act, as soon as \\nreasonably practicable after we electronically file such materi al with, or furnish it to, the SEC. The Company’s website \\naddress provided is not intended to function as a hyperlink, an d the information on the Company’s website is not, and \\nshould not be considered, part of this Annual Report on Form 10  -  K and is not incorporated by reference herein. \\nThe SEC maintains a Web site ( http://www.sec.gov) that contains  reports, proxy and information statements and other \\ninformation regarding issuers, s uch as us, that file electronic ally with the SEC. \\n  ' metadata={'source': 'D:\\\\Finance Bot July 2024\\\\Finance-Chatbot\\\\data\\\\finance-data.pdf', 'page': 16}\n",
      "7 page_content='Table of Contents \\n16 Item 1A. Risk Factors \\nA description of the risk factors associated with our business is set forth below. Some of th ese risks are highlighted in \\nthe following discussion, and in M anagement’s Discussion and An alysis of Financial Condition and Results of Operations, \\nLegal Proceedings, and Quantitative and Qualitative Disclosures  About Market Risk. The occurrence of any of these risks \\nor additional risks and uncertainties not presently known to us  or that we currently believe to be immaterial could materially  \\nand adversely affect our business, operating results, financial  condition, and stock price. These risks and uncertainties \\ncould cause our actual results to differ materially from the re sults contemplated by the forward-looking statements \\ncontained in this report. Investors should carefully consider a ll relevant risks and uncertainties before investing in our \\ncommon stock. \\nRisk Factors Summary \\nRisks Associated with Our Business \\n• We have invested significant resources into research and develo pment of our DFI system and Exensio software \\nand if we fail to successfully carry out these initiatives on t he expected timeline or at all, our business, financial \\ncondition, or results of operati ons could be adversely impacted . \\n• Our sales cycle is lengthy and customers may delay entering int o contracts or decide not to adopt our products or \\nsolutions after we have performed services or supported their e valuation of our technology, which could result in \\ndelays in recognizing revenue and could negatively impact our r esults of operations in a quarter or result in lower \\nrevenue than we expected if a contract is not consummated. \\n• We rely on sole-source providers for certain software as well a s for specialized parts for our eProbe hardware and \\nsupply-chain delays or disrupti ons could increase our costs or impact our ability to provide complete software \\nsolutions or to build additional hardware tools or meet custome r expectations or deadlines, which could result in \\nlost sales and lower earnings. \\n• Our fixed-fee services for product or system installations/conf igurations may take longer than budgeted, which \\ncould slow our revenue recognition and may result in a lost con tract or a claim of breach by our customers, which \\nwould negatively affect our fin ancial and operating results. \\n• Our ability to sell our products , systems, and solutions depend s in part on the quality of our support and services \\nofferings, and the failure to offer high-quality support and se rvices could negatively affect our sales and results \\nof operations. \\n• Defects in our proprietary technologies, hardware and software tools, and failure to effectively remedy any such \\ndefects could decrease our revenue and our competitive market s hare. \\n• Objectionable disclosure of our customers’ confidential informa tion or our failure to comply with our customers’ \\nsecurity rules, including for those related to SaaS access, AI use, or our on-site access, could result in costly \\nlitigation, cause us to lose existing and potential customers, or negatively impact on-going business with existing \\ncustomers. \\n• We generate a significant portion of our revenues from a limite d number of customers, and a large percentage of \\nour revenues from one customer, so defaults or decreased busine ss with, or the loss of, any one of these customers, \\nor pricing pressure, or customer consolidation could significan tly reduce our revenues or margins and negatively \\nimpact results o f operations. \\n• If we do not continuously meet our development milestones of ke y research and development projects or \\nsuccessfully commercialize our DFI system, our future market op portunity and revenues will suffer, and our costs \\nmay not be recouped. ' metadata={'source': 'D:\\\\Finance Bot July 2024\\\\Finance-Chatbot\\\\data\\\\finance-data.pdf', 'page': 17}\n",
      "8 page_content='Table of Contents \\n17 • We are required to comply with governmental export and import r equirements that could subject us to liability \\nand restrict our ability to sell our products and services, whi ch could impair our ability to compete in international \\nmarkets. \\n• Decreases in wafer volumes at our customers’ manufacturing site s or the volume of ICs that some of our \\ncustomers are able to sell to the ir customers would cause our I ntegrated Yield Ramp revenue to suffer. \\n• We acquired an early-stage battery-solutions provider and have been investing in research and development for \\nnew products and services beyond our traditional semiconductor focus, and it could take a long time to reach \\nmarket acceptance and recoup our costs, if at all. \\n• Our success depends upon our ability to effectively plan and ma nage our resources and restructure our business \\nthrough rapidly fluctuating economic and market conditions, whi ch actions may have an adverse effect on our \\nfinancial and operating results. \\n• Our business may be negatively im pacted by social, political, g eopolitical, economic instability, unrest, war, \\nterrorism, or other circumstances that could interrupt our busi ness operations, which could cause us to lose sales \\nor delay or be unable to fulfill contractual commitments, which  may have an adverse effect on our financial and \\noperating results. \\n• Global economic conditions or semiconductor market conditions c ould materially adversel y impact demand for \\nour products and services, decrease our sales, or delay our sal es cycle. \\n• We face challenges in providing a  comprehensive s olution outsid e of the semiconductor industry due to \\nlimitations on the business areas in which we can use current t hird-party licensed technology, which may make \\nit prohibitively expensive to se ll our solution for application s outside of our traditional industry. \\nRisks Related to Our Technology \\n• If we fail to protect our IP rights, customers or potential com petitors may be able to use our technologies to \\ndevelop their own solutions, which could weaken our competitive  position, reduce our revenues, or increase our \\ncosts. \\n• We are exposed to risks related to information technology infra structure, information management and protection, \\ncybersecurity threats, and cyber incidents. \\n• We and our customers are subject to laws and regulations concer ning data privacy, dat a security, consumer \\nprotection, and advertising and these laws and regulations are continually evolving, which exposes us to potential \\nmaterial risks. \\n• Our technologies could infringe the IP rights of others, causin g costly litigation and the loss of significant rights. \\n• Competition in the market for data analytics and related system s and services may intensify in the future, which \\ncould impede our ability to gr ow or execute our strategy. \\n• Generative AI and the user other advanced AI technologies for s oftware development may subject us to claims \\nof misappropriation of others’ IP, bugs/errors, and ambiguous o wnership of created content. \\nRisks Related to Our Operations \\n• Measurement of our variable consideration sometimes require dat a collection and customers’ use of estimates \\nand are contingent upon customers’ consent and may be later off set if actual data differ from customers’ estimates, \\nwhich can result in uncertainty a nd cause quarterly results to fluctuate. ' metadata={'source': 'D:\\\\Finance Bot July 2024\\\\Finance-Chatbot\\\\data\\\\finance-data.pdf', 'page': 18}\n",
      "9 page_content='Table of Contents \\n18 • We have customers with past due b alances and our failure to col lect a significant portion of such balances could \\nadversely affect our cash, require us to write-off receivables,  or increase our expense or allowance for credit \\nlosses. \\n• We face operational and financial risks associated with interna tional operations that could negatively impact our \\nrevenues. \\n• Our business is subject to evolving corporate governance and pu blic disclosure regulations and expectations, \\nincluding with respect to ESG matters that could expose us to n umerous risks. \\n• Provision of certain of our da ta services relies on installing,  configuring, and operating proprietary configuration \\nof hardware and software systems located in third-party facilit ies and errors affecting such facilities’ operations \\ncould lead to liability for us, a nd any objection from such thi rd-party facility or delay in providing us physical or \\nlogical access to our systems may  adversely impact our ability to timely perform our contract obligations or lead \\nto confidentiality, integrity, availability, security, or priva cy controls exceptions. \\nTax Risks \\n \\n• U.S. federal tax reform and chan ges in foreign tax laws could c hange our tax burden and adversely affect our \\nbusiness and financial condition. \\n• Future events may impact our deferred tax asset position, inclu ding the utilization of net operating loss and tax \\ncredit carryforwards. \\nRisks Related to Our Strategic Transactions \\n• We may devote significant time and resources to developing stra tegic relationships but we may not realize the \\nbenefits of such efforts, which could have an adverse effect on  our business and results of operations. \\n• Our acquisitions create special r isks and challenges that could  adversely affect our  financial results. \\nGeneral Risk Factors \\n• If we are not able to retain, a ttract, motivate, and strategica lly locate talented employees, including some key \\nexecutives, our business may suffer. \\n• Our earnings per share and other operating results may vary qua rter to quarter, which could result in not meeting \\ninvestors’ expectations a nd stock price volatility. \\n• Our business could be negatively affected as a result of action s of activist shareholders, and such activism could \\nimpact the trading value of our securities. \\nRisks Associated with Our Business \\nWe have invested significant resources into research and development of our DFI system and Exensio software and if \\nwe fail to successfully carry out these initiatives on the expect ed timeline or at all, our business, financial condition, or \\nresults of operations could be adversely impacted. \\nAs part of the evolution of our business, we have made substant ial investments in research and development efforts \\nto develop our DFI system and Exensio software. New competitors , technological advances in th e semiconductor industry \\nor other competitive factors may require us to further invest s ignificantly greater resources t han we anticipate. If we invest  \\nsignificantly greater resources  than anticipated without a corr esponding increase in revenue, our operating results could \\ndecline. The technologies and products that we invest in may no t result in products that creat e additional revenue, and we ' metadata={'source': 'D:\\\\Finance Bot July 2024\\\\Finance-Chatbot\\\\data\\\\finance-data.pdf', 'page': 19}\n"
     ]
    }
   ],
   "source": [
    "for i, doc in enumerate(pages):\n",
    "    print(i , doc)"
   ]
  },
  {
   "cell_type": "code",
   "execution_count": 37,
   "metadata": {},
   "outputs": [],
   "source": [
    "raw_text = ''\n",
    "for i, doc in enumerate(pages):\n",
    "    text = doc.page_content\n",
    "    if text:\n",
    "        raw_text += text"
   ]
  },
  {
   "cell_type": "code",
   "execution_count": 38,
   "metadata": {},
   "outputs": [
    {
     "name": "stdout",
     "output_type": "stream",
     "text": [
      "Table of Contents \n",
      "9 understand root causes. Our full-reticle CV test chips use a sh ortened process flow to provide a faster \n",
      "learning cycle for speci fic process modules. \n",
      " Our Scribe CV test chips are inserted directly on customers’ pr oduct wafers to collect data about critical \n",
      "layers. \n",
      " Our DirectProbe™ CV test chips are designed to enable ultra-fas t yield learning for new product designs \n",
      "by allowing our customers to measure components of actual produ ct layout and identify yield issues. \n",
      "• pdFasTest ® Electrical Tester – Our proprietary electrical test hardware is optimized to quickl y test our CV test \n",
      "chips, enabling fast defect and p arametric characterization of manufacturing processes. As part of the system \n",
      "offering, we provide test progr ams for each CV test chip that a re tuned to the customer’s process. This automated \n",
      "system provides parallel functional testing, thus minimizing th e time required to perform millions of electrical \n",
      "measurements to test our CV test chips. We provide services to analyze the unique, differentiated data output of \n",
      "this tester using the Exensio Characterization software to prov ide actionable insights to our customers. \n",
      "• Exensio Characterization software – This module, which is designed to integrate seamlessly with the  rest of the \n",
      "Exensio software, collects the da ta generated from our CV test products, generating models of the performance \n",
      "effects of process variations on these design building blocks. As part of the system offering, we also offer analysis \n",
      "services, if the customer elects not to do such analysis itself . \n",
      "Cimetrix® Software Products . Our Cimetrix software products enable equipment manufacturers  in the semiconductor \n",
      "and electronics industries to provide standard interfaces on th eir products for efficient equi pment communication, control, \n",
      "and data collection. Numerous industry standards have been esta blished for equipment connectivity and control, including \n",
      "the SEMI (Semiconductor Equipment and Materials International) defined SECS (SEMI Equipment Communication \n",
      "Standard), GEM (Generic Equipment Model), GEM300, and EDA (equi pment data acquisition) standards. Our Cimetrix \n",
      "products are designed to fully support these industry standards  to enable equipment manufacturers to implement robust, \n",
      "turnkey support for these connectivity and control standards wi thout needing to invest engineering resources to develop \n",
      "their own interfaces to these standards. Factories that purchas e manufacturing equipment enabled with Cimetrix-supported \n",
      "interfaces, benefit from consist ent and robust implementations of industry standards, enabling faster and more efficient \n",
      "implementation of smart manufacturing initiatives that depend o n the collection and analysis of manufacturing and product \n",
      "data. Cimetrix products are sold via perpetual licenses and typ ically sold as part of a softw are development kit (“SDK”) \n",
      "that helps equipment manufacturers implement them quickly. We c harge a one-time fee per equipment product type for \n",
      "the SDK license and a one-time fee for each piece of equipment shipped that includes the Cimetrix runtime license. \n",
      "• Equipment Factory Connectivity – Our products for equipment factory connectivity primarily inclu de the \n",
      "following:  \n",
      " Cimetrix CIMConnect ™ is a SEMI SECS/GEM interface to the factory host for automate d control and \n",
      "data collection. The Cimetrix CIMConnect module supports multip le-host interfaces simultaneously, \n",
      "which allows customers to support legacy, custom, and GEM inter faces. Cimetrix CIMConnect is used \n",
      "in semiconductor wafer fabrication, semiconductor back-end (tes t, assembly, and packaging), PV, HB-\n",
      "LED, disk drive, flat panel displays, printed circuit boards an d other electronics manufacturing. In \n",
      "addition to enabling the implementation of the SEMI SECS/GEM st andards E4, E5, E30, E37, E172, \n",
      "and E173, Cimetrix CIMConnect also supports SEMI PV2 (PVECI), A 3 (PCBECI), and HB4 (HB-LED \n",
      "ECI) standards. \n",
      " Cimetrix CIM300 ™ is a GEM interface for 300mm equipment using SEMI standards, including E39, \n",
      "E40, E87, E90, E94, E116, E148, and E157. These SEMI standards allow for the full automation \n",
      "required in manufacturing 300mm wafers. Cimetrix CIM300 manages  the interdependencies between \n",
      "the standards and simp lifies complex scenarios for easy impleme ntation of the standards. These \n",
      "GEM300 standards are required for full automation in manufactur ing of 300mm wafers. Cimetrix Table of Contents \n",
      "10 CIM300 works with Cimetrix CIMConnect to implement the GEM300 a nd the original GEM suite of \n",
      "standards. \n",
      " Cimetrix CIMPortal ™ Plus is an interface for EDA, also kn own as Interface A. The EDA st andards are \n",
      "E120, E125, E132, E134, E138, E 147, and E164. Cimetrix CIMPorta l Plus implements the EDA \n",
      "standards in a flexible architect ure that collects data from mu ltiple sources and routes the data to multiple \n",
      "clients simultaneously. Factorie s can use the data gathered thr ough EDA interfaces for FDC, run-to-run \n",
      "advanced process control, equipment health monitoring, chamber/ tool matching, predictive \n",
      "maintenance, virtual metrology, diagnostics, and many other equ ipment-related analytical applications. \n",
      "• Equipment Factory Connectivity Testing –  We provide the following produc ts for testing the interfaces d eveloped \n",
      "using our equipment factory connectivity products: Cimetrix Equ ipmentTest™, for testing and validating \n",
      "compliance with the GEM and GEM300 standards, Cimetrix EDATeste r™, for testing and validating compliance \n",
      "with the EDA/Interface A standard s, and performan ce testing of the interface, and Cimetrix ECCE Plus™ for \n",
      "quick testing of the EDA /Interface A interface.  \n",
      "• Equipment Control –  Our equipment control product is the Cimetrix CIMControlFramew ork™ (“Cimetrix CCF”) \n",
      "software, which includes components for supervisory control, ma terial handling, operator interface, platform \n",
      "control, and factory automation requirements, to allow equipmen t manufacturers to meet the requirements of \n",
      "fabrication facilities. Developer s can leverage framework compo nents through configuration and extension or \n",
      "customize the framework when unique requirements exist. Cimetri x CCF is designed to allow data generated at \n",
      "any point on the equipment to be quickly and easily accessed by  other modules or external applications. Cimetrix \n",
      "CIMConnect, Cimetrix CIM300, and Cimetrix CIMPortal Plus are in tegrated with Cimetrix CCF to support the \n",
      "SEMI GEM, GEM300, and E DA/Interface A standards.  \n",
      "Services \n",
      "Our services are almost always s old together with, or to suppor t, our products and include the following: \n",
      "Software-as-a-Service –  We provide services to make our  Exensio software available to our customers via the Internet, \n",
      "generally hosted by third-party providers. SaaS is considered p art of cloud computing since the software is hosted on the \n",
      "Internet, or the “cloud.” Since  our SaaS applications are acces sed from a remote server rather than installed on individual \n",
      "machines, it is easier to maintain. For example, when the remot e software is updated, the customer’s interface is also \n",
      "updated for all users. Cloud computing is designed to eliminate  incompatibilities between differ ent software versions and \n",
      "allow us to make incremental updates without requiring software  downloads. Additionally, our customers can save data to \n",
      "a central online location, which is designed to allow increased  project collaboration. As part of these services, we also \n",
      "typically provide hosted management services for the software a nd the customer’s data stored in our cloud. These services \n",
      "include environment set-up and configuration, system health mon itoring, data integration maintenance, integration \n",
      "monitoring, system updates, security, and data upload/download,  and license administration. \n",
      "Software Related Services  – We provide software maintenance and support (“M&S”), data ma nagement services, \n",
      "various value-added services (“VAS”) to install, configure, or create analysis templates, and other professional services to \n",
      "achieve customers’ specific outcomes using our software. We cal l this last type of services our solutions offering and, in \n",
      "these cases, we tailor the use of  one or more Exensio products to achieve a desired result. For example, our AIM \n",
      "YieldAware™ FDC solution offering is designed to identify the p rocess control variables that have the greatest impact on \n",
      "product yield through professional services that analyze the da ta from both Exensio Proce ss Control and elements of \n",
      "Exensio Manufacturing Analytics and make recommendations for th e customer to implement. VAS are provided by our \n",
      "professional service personnel w ith expertise that enhances and  complements the engineering teams at our customers. For \n",
      "example, VAS includes our data cleaning and monitoring services . One requirement of big data analytics is to have clean, \n",
      "harmonized data to analyze. This service offering outsources th e data wrangling and management effort to free the \n",
      "customer to focus their efforts on analysis, which has a greate r ROI to the company than data management. \n",
      "Characterization Services  – These services are designed to characterize key product and/ or process elements, \n",
      "primarily into CV test structures  or DFI on-chip measurement in struments, and typically do not include performance Table of Contents \n",
      "11 incentives based on the customers’ yield achievement. We provid e these services, typically together with all elements of \n",
      "our CV system, to foundry customers in connection with new proc ess technology development and/or yield ramp. In \n",
      "Characterization engagements, we generally provide the analysis  of our CV test chips and provide summary findings and \n",
      "recommendations to the customer. Characterization engagements c an include DFI systems. \n",
      "Customers \n",
      "Our existing customers include f oundries, IDMs, fabless semicon ductor design companies, OSATs, equipment \n",
      "manufacturers, EMS, and ODMs, including those that embed and di stribute our Assembly Operations modules in their \n",
      "equipment. Our semiconductor customers’ targeted product segmen ts vary significantly, including microprocessors, \n",
      "memory, graphics, image sensor solutions, and communications. W e believe that the adoption of our solutions by such \n",
      "companies for usage in a wide range of products validates the a pplication of our solutions to the broader semiconductor \n",
      "market. We often have multiple contracts with a single customer  or customer group, with no in terdependent performance \n",
      "obligations. In general, our customer contracts are non-cancell able. \n",
      "One customer accounted for 35% of  our revenues for 2023, two cu stomers accounted for 41% of our revenues for \n",
      "2022 and two customers accounted for 27% of our revenues for 20 21. No other customers accounted for 10% or more of \n",
      "our revenues in 2023, 2022 and 2021. Also, two customers accoun ted for 50% of our gross accounts receivable as of \n",
      "December 31, 2023, and three cust omers accounted for 53% of our  gross accounts receivable as of December 31, 2022. \n",
      "We generally do not require collateral or other security to sup port accounts receivable. See the discussion in “Risk Factors” \n",
      "under Item 1A for more information about risks associated with customer concentration and contractual provisions. \n",
      "International revenues accounted for approximately 44%, 50% and  55% of our total revenues for 2023, 2022 and \n",
      "2021, respectively. We base these calculations on the geographi c location of where the work is performed or where the \n",
      "customer is located. Revenues from customers by geographic area  based on the location of the customers’ work sites for \n",
      "the last three fiscal years can be  found in Note 11, “Customer and Geographic Information” to the consolidated financial \n",
      "statements. Additional discussion  regarding the risks associate d with international operations can be found under Item 1A, \n",
      "“Risk Factors”. \n",
      "See our “Notes to Consolidated F inancial Statements”, included under Part II, Item 8. “Financial Statements and \n",
      "Supplementary Data” for additional geographic information. \n",
      "Sales and Marketing \n",
      "Our sales strategy is primarily  to pursue targeted accounts thr ough a combination of our direct sales force, our service \n",
      "teams, and strategic alliances. After we are engaged by a custo mer and early in the services p rocess, our engineers seek to \n",
      "establish relationships in the organization and gain an underst anding of our customers’ business issues. Our direct sales \n",
      "and service teams combine their efforts to deepen our customer relationships by expanding our penetration across \n",
      "customers’ products, processes, and technologies. This close wo rking relationship with each customer has the added \n",
      "benefit of helping us to identify new product areas and technol ogies in which we should next focus our research and \n",
      "development efforts. From time-to -time, we use sales representa tives/agents in various locations to augment direct sales \n",
      "in certain territories.  \n",
      "We expect to continue to establish strategic alliances with pro cess licensors, vendors in the electronic design \n",
      "automation software, capital equipment for IC production, and t est silicon IP and mask-making s oftware segmen ts to create \n",
      "and take advantage of sales channel and co-marketing opportunit ies. Additionally, we expect to form relationships with \n",
      "key value chain participants, including foundries and OSATs, to  provide services and value across the manufacturing \n",
      "supply chain. \n",
      "Research and Development \n",
      "Our research and development focuses on developing and introduc ing new proprietary technologies for our \n",
      "comprehensive platform, including our Exensio software, Cimetri x connectivity and control products, and DFI and CV \n",
      "systems, as well as other software products and enhancements to  our existing solutions, such as field applications for DFI Table of Contents \n",
      "12 and CV and new applications targeted to inter-operate with stra tegic partner products. We use a rapid-prototyping \n",
      "paradigm in the context of the customer engagement to achieve t hese goals. We have made, and expect to continue to \n",
      "make, substantial investments in research and development. The complexity of our technologies requires expertise in \n",
      "standards, physical IC design and layout, transistor design and  semiconductor physics, semiconductor process integration, \n",
      "numerical algorithms, e-beam tech nology, hardware, statistics a nd software development. We believe that our team of \n",
      "engineers will continue to advance our market and technological  leadership. We conduct in-house training for our \n",
      "engineers in certain technical ar eas. Our training also extends  to focusing on ways to enhance customer service skills. \n",
      "Although it fluctuates, we can have up to one quarter of our re search and development engineers assigned to one or more \n",
      "projects, partnered with solutio n services engineers, in a deli berate strategy to provide direct feedback between technology \n",
      "development and customer needs. We also utilize a variety of sk illed independent contractors for specialized development. \n",
      "Competition \n",
      "The semiconductor industry is highly competitive and driven by rapidly changing design and process technologies, \n",
      "evolving standards, short product life cycles, and decreasing p rices. We expect market competition to continue to develop \n",
      "and increase as the market for data and analytics continues to evolve. We believe IC companies benefit from a combination \n",
      "of big data management infrastructure, AI/ML-based analytics en gines, and products that generate and collect \n",
      "differentiated data that enrich the analytics process. Currentl y, we are a leading provider o f comprehensive commercial \n",
      "hardware, software and IP solutions for optimizing and improvin g design, manufacturing and test operations processes \n",
      "through the application of differentiated data and advanced ana lytics. As a result, we face c ompetition from three primary \n",
      "groups: internal customer development or design programs, equip ment solutions providers, and providers of analytical and \n",
      "design software. We face indir ect competition from internal gro ups at IC companies that offer tools with varying degrees \n",
      "of optimization to accelerate pr ocess-design integration or tes t operations. Some providers of semiconductor \n",
      "manufacturing software, inspection equipment, electronic design  automation, or design IP may seek to broaden their \n",
      "product offerings and compete with us. In addition, companies p roviding general ML and analytics software may focus on \n",
      "semiconductor companies and comp ete with us. In each of the mar ket segments we compete in, we face competition from \n",
      "established and potential competitors, some of whom may have gr eater financial, research, engineering, manufacturing \n",
      "and marketing resources than we have. \n",
      "We currently face indirect compe tition from the i nternal groups  at IC companies and direct competition from providers \n",
      "of (i) yield management and/or prediction systems, such as KLA Corporation (“KLA”), Siemens AG (“Siemens”), Onto \n",
      "Innovation, Inc. (“Onto”), and Synopsys, Inc. (“Synopsys”); (ii ) semiconductor manufacturing software, such as Applied \n",
      "Materials, Inc (“Applied Materials”), Synopsys, Invantest, Inc. , Emerson Electric Co., Onto,  and Siemens; (iii) inline \n",
      "inspection, metrology and electrical test equipment providers, such as ASML Holding N.V. (“ASML”), Applied Materials, \n",
      "KLA, and Keysight Technologies, Inc.; and, (iv) connectivity so ftware or integration products/services supporting factory \n",
      "equipment connectivity or control needs of customers, such as P E E R  G r o u p ,  I n c . ,  K o n t r o n  A I S ,  G m b H ,  Y o k o g a w a  \n",
      "Electric Corp., Advantest, and Kornic Automation Co. Ltd. There  may be other providers of competitive commercial \n",
      "solutions of which we are not aware, and we may compete with th e products or offerings of these named companies or \n",
      "additional companies if we expa nd our offerings through acquisi tions or development. For example, since our acquisition \n",
      "of Cimetrix in late 2020, we now face competition in the produc ts/services supporting the connectivity, control and \n",
      "integration of factory equipment. The demand for solutions that  address the need for better integration between the silicon \n",
      "design and manufacturing processes may encourage direct competi tors to enter our market. For example, in 2020, two of \n",
      "our competitors were acquired by larger entities, Synopsys acqu ired Qualtera and NI, Inc. acquired Optimal+, and each \n",
      "has increased marketing or pricing competition with us. For exa mple, in 2023, Emerson Electric Co. acquired NI, Inc. This \n",
      "competition in our market may intensify in the future, which co uld lead to increased pricing pressure, negatively impacting \n",
      "our revenues, and slow our ability to grow or execute our strat egy. Also, our current and potential customers may choose \n",
      "to develop their own solutions internally, particularly if we a re slow in deploying our solutions or improving them to meet \n",
      "market needs. These and other competitors may be able to operat e  w i t h  a  l o w e r  c o s t  s t r u c t u r e  t h a n  o u r  e n g i n e e r i n g  \n",
      "organization, which would give any such competitor’s products a  competitive advantage over our solutions. \n",
      "We believe that our solutions compare favorably with respect to  competition because we have demonstrated results \n",
      "and reputation, strong core technology, ability to create innov ative technology, and ability to implement solutions for new \n",
      "technology and product generations. See the discussions in “Ris k Factors” under Item 1A for more information about risks \n",
      "associated with our competition. Table of Contents \n",
      "13 Human Capital Management \n",
      "We believe that our future success will depend, in part, on our  continued ability to hire and retain qualified \n",
      "management, sales, and technical employees. Consequently, we se ek to engage in sound ethical and organizational \n",
      "governance, promote business et hics and integrity, and embrace equality, diversity, and inclusion throughout our \n",
      "organization. \n",
      "As of December 31, 2023, we had 493 employees worldwide, includ ing 171 field application engineers and \n",
      "consultants, 155 in research and development, 106 in sales and marketing, and 61 in general and administrative functions. \n",
      "Of these employees, 285 are lo cated in the United States, 172 i n Asia, and 36 in Europe. \n",
      "None of our employees are represented by a labor union. Our emp loyees in France and Italy are subject to collective \n",
      "bargaining agreements in those countries. \n",
      "Our commitment to human capital management  is embedded in our governance structure \n",
      "At the Board level, our Compensation and Human Capital Manageme nt Committee is tasked with oversight of the \n",
      "development, implementation and effectiveness of our policies a nd strategies relating to human capital management, \n",
      "including strategies regarding recruiting, selection, career de velopment and progression, and diversity and employment \n",
      "practices. Further, our Nominatin g and Corporate Governance Com mittee is tasked with primary oversight for governance \n",
      "and ESG issues. \n",
      "Talent Development \n",
      "We are committed to the development and growth of our employees  because we believe this is crucial for our long-\n",
      "term success. This includes offering training, mentorship, and other development opportunities to further enhance the \n",
      "talent we have today, but also entails having the right skill s ets for our future. \n",
      "To this end, we are working to implement a planned set of actio ns around increasing formal programs to achieve these \n",
      "goals. We believe that our team o f engineers will continue to a dvance our market and technol ogical leadership. We conduct \n",
      "in-house training for our engin eers in certain technical areas.  \n",
      "We also fund attendance at continuing education courses, sympos ia, and participation in professional organizations. \n",
      "Employee Engagement \n",
      "Employee engagement is crucial for the overall health of the or ganization. In 2023, we conducted a survey of all our \n",
      "employees to assess overall employee engagement. \n",
      "In addition to our efforts to address employee engagement, we a re committed to supporting our employees and \n",
      "creating an engaged workforce by  prioritizing the items below: \n",
      "• personal growth through training and development; \n",
      "• recognizing and rewarding our peo ple for their commitment to ou r values and our organization; \n",
      "• flexible work locations and schedules; and \n",
      "• providing a sense of organizational community by hosting online  as well as in-person events where our people \n",
      "can gather and connect. Table of Contents \n",
      "14 Health and Safety \n",
      "We are committed to ensuring that proper working conditions exi s t  f o r  t h e  s a f e t y  o f  o u r  e m p l o y e e s ,  s u c h  a s  \n",
      "developing, implementing, and improving health and safety syste ms and conditions, and providing appropriate \n",
      "preparation, education, reporting, and controls. \n",
      "Diversity, Equity, and Inclusion \n",
      "We work to ensure that our business practices support diversity  and inclusion to build an innovative workforce and to \n",
      "strive toward having our organization reflect the complexion of  o ur c u s t om e r s  a n d s up pl i e rs .  In F e br ua r y 2 02 4,  a ft e r  \n",
      "considering the recommendation of the Nominating and Corporate Governance Committee, the Compensation and Human \n",
      "Capital Management Committee approved, and then our Board adopt ed, a Human Rights policy and a Diversity, Equity, \n",
      "and Inclusion (“DEI”) Policy to b etter implement our core value s and relevant standards into our governance structure.  \n",
      "We are strengthening our diversity and inclusion programs with actions around organizational training, on-going \n",
      "education and focus on our company values, and a revitalized re cruitment strategy. \n",
      "We value a range of diverse perspectives with reference to our business model and specific needs, including, but not \n",
      "limited to, gender, age, race, lan guage, cultura l background, e ducational background, industry experience, professional \n",
      "experience, and veteran and activ e armed service status or othe r similar characteristics.  \n",
      "Information about our Executive Officers \n",
      "The following table and notes set forth information about our c urrent executive officers as of the date of this \n",
      "Form 10  -  K. \n",
      "   \n",
      "Name       Age      Position\n",
      "J o h n  K .  K i b a r i a n ,  P h . D .  .....  5 9  P r e s i d e n t ,  C h i e f  E x e c u t i v e  O f ficer, and Directo r \n",
      "A d n a n  R a z a  ...............  5 1  E x e c u t i v e  V i c e  P r e s i d e n t ,  F i n a n c e and Chief Financial Office r\n",
      "K i m o n  W .  M i c h a e l s ,  P h . D .  ...  5 7  E x e c u t i v e  V i c e  P r e s i d e n t ,  P r o d ucts and Solutions and Directo r\n",
      "Andrze j Stro jw a s ,  P h . D .  .....  7 1  C h i e f  T e c h n o l o gy Office r\n",
      "John K. Kibarian, Ph.D. , one of our founders, has served as President since November 1 991 and has served as our \n",
      "Chief Executive Officer since July  2000. Dr. Kibarian has serve d as a director on our Board of Directors since \n",
      "December 1992. Dr. Kibarian recei ved a B.S. in Electrical Engin eering, an M.S. E.C.E. and a Ph.D. E.C.E. from Carnegie \n",
      "Mellon University. \n",
      "Adnan Raza , joined in January 2020 as Executive Vice President, Finance, and was appointed Chief Financial Officer \n",
      "effective in March 2020. Prior t o joining the Company, Mr. Raza  served as an independent strategy consultant for private \n",
      "and public companies from July 2019 to January 2020. Prior to t hat, Mr. Raza served in various roles at Synaptics Inc., a \n",
      "developer of human interface technologies, including as Senior Vice President of Corporate Development from \n",
      "August 2017 to June 2019 and Vice President of Corporate Develo pment from February 2015 to August 2017. Prior roles \n",
      "include technology investment banking at Goldman, Sachs & Co. a nd UBS Investment Bank, strategic advising at \n",
      "Blackreef Capital, engineering and  marketing at Azanda Network Devices, and engineering at Lucent Technologies. \n",
      "Mr. Raza also served as a Board M ember at FIDO Alliance, an all iance of leading technology companies to enhance user \n",
      "security and authentication. Mr . Raza holds an M.B.A. from The Wharton School at the University of Pennsylvania, a \n",
      "M. Eng. in Electrical Engineerin g from Cornell University, and a B.S. in Electrical Engineering from Valparaiso \n",
      "University. \n",
      "Kimon W. Michaels, Ph.D. , one of our founders, has served as Vice President, Products a nd Solutions since July 2010 \n",
      "and was designated as an Executive VP in February 2019. Dr. Mic haels served as Vice President, Design for \n",
      "Manufacturability from June 2007 through June 2010. Prior to th at, Dr. Michaels served as Vice President, Field \n",
      "Operations for Manufacturing Process Solutions from January 200 6 through May 2007, and has served as a director on \n",
      "our Board of Directors since November 1995. From March 1993 thr ough December 2005, he served in various vice \n",
      "presidential capacities. He also served as Chief Financial Offi cer of the Company from November 1995 to July 1998. \n",
      "Dr. Michaels received a B.S. in Electrical Engineering, and M.S . E.C.E. and a Ph.D. E.C.E. from Carnegie Mellon \n",
      "University. Table of Contents \n",
      "15 Andrzej Strojwas, Ph.D. , served as a technical advisor to the Company from our foundin g until 2021 and as chief \n",
      "technologist from 1997 to 2021. He joined the Company as an emp loyee in July 2021 as Vice President and Technical \n",
      "General Manager, and was appointed Chief Technology Officer eff ective December 2021. From October 1982 to \n",
      "July 2021, Dr. Strojwas was the Keithley Professor of Electrica l and Computer Engineering at Carnegie Mellon \n",
      "University. In addition, Dr. Strojwas has held senior technical  positions at Harris Semiconductor Co., AT&T Bell Labs, \n",
      "Texas Instruments, NEC, Hitachi, SEMATECH, and KLA. He holds an  M.S. in Electronic Engineering from Warsaw \n",
      "Technical University and a Ph.D. in Electrical Engineering from  Carnegie Mellon University. \n",
      "Available Information \n",
      "We file or furnish various reports, such as registration statem ents, periodic and current reports, proxy statements and \n",
      "other materials with the SEC. Our Internet website address is w ww.pdf.com. You may obtain, free of charge on our \n",
      "website, copies of our annual reports on Form 10  -  K, quarterly reports on Form 10  -  Q, current reports on Form 8  -  K, and \n",
      "amendments to those reports filed or furnished pursuant to Sect ion 13(a) or 15(d) of the Exchange Act, as soon as \n",
      "reasonably practicable after we electronically file such materi al with, or furnish it to, the SEC. The Company’s website \n",
      "address provided is not intended to function as a hyperlink, an d the information on the Company’s website is not, and \n",
      "should not be considered, part of this Annual Report on Form 10  -  K and is not incorporated by reference herein. \n",
      "The SEC maintains a Web site ( http://www.sec.gov) that contains  reports, proxy and information statements and other \n",
      "information regarding issuers, s uch as us, that file electronic ally with the SEC. \n",
      "  Table of Contents \n",
      "16 Item 1A. Risk Factors \n",
      "A description of the risk factors associated with our business is set forth below. Some of th ese risks are highlighted in \n",
      "the following discussion, and in M anagement’s Discussion and An alysis of Financial Condition and Results of Operations, \n",
      "Legal Proceedings, and Quantitative and Qualitative Disclosures  About Market Risk. The occurrence of any of these risks \n",
      "or additional risks and uncertainties not presently known to us  or that we currently believe to be immaterial could materially  \n",
      "and adversely affect our business, operating results, financial  condition, and stock price. These risks and uncertainties \n",
      "could cause our actual results to differ materially from the re sults contemplated by the forward-looking statements \n",
      "contained in this report. Investors should carefully consider a ll relevant risks and uncertainties before investing in our \n",
      "common stock. \n",
      "Risk Factors Summary \n",
      "Risks Associated with Our Business \n",
      "• We have invested significant resources into research and develo pment of our DFI system and Exensio software \n",
      "and if we fail to successfully carry out these initiatives on t he expected timeline or at all, our business, financial \n",
      "condition, or results of operati ons could be adversely impacted . \n",
      "• Our sales cycle is lengthy and customers may delay entering int o contracts or decide not to adopt our products or \n",
      "solutions after we have performed services or supported their e valuation of our technology, which could result in \n",
      "delays in recognizing revenue and could negatively impact our r esults of operations in a quarter or result in lower \n",
      "revenue than we expected if a contract is not consummated. \n",
      "• We rely on sole-source providers for certain software as well a s for specialized parts for our eProbe hardware and \n",
      "supply-chain delays or disrupti ons could increase our costs or impact our ability to provide complete software \n",
      "solutions or to build additional hardware tools or meet custome r expectations or deadlines, which could result in \n",
      "lost sales and lower earnings. \n",
      "• Our fixed-fee services for product or system installations/conf igurations may take longer than budgeted, which \n",
      "could slow our revenue recognition and may result in a lost con tract or a claim of breach by our customers, which \n",
      "would negatively affect our fin ancial and operating results. \n",
      "• Our ability to sell our products , systems, and solutions depend s in part on the quality of our support and services \n",
      "offerings, and the failure to offer high-quality support and se rvices could negatively affect our sales and results \n",
      "of operations. \n",
      "• Defects in our proprietary technologies, hardware and software tools, and failure to effectively remedy any such \n",
      "defects could decrease our revenue and our competitive market s hare. \n",
      "• Objectionable disclosure of our customers’ confidential informa tion or our failure to comply with our customers’ \n",
      "security rules, including for those related to SaaS access, AI use, or our on-site access, could result in costly \n",
      "litigation, cause us to lose existing and potential customers, or negatively impact on-going business with existing \n",
      "customers. \n",
      "• We generate a significant portion of our revenues from a limite d number of customers, and a large percentage of \n",
      "our revenues from one customer, so defaults or decreased busine ss with, or the loss of, any one of these customers, \n",
      "or pricing pressure, or customer consolidation could significan tly reduce our revenues or margins and negatively \n",
      "impact results o f operations. \n",
      "• If we do not continuously meet our development milestones of ke y research and development projects or \n",
      "successfully commercialize our DFI system, our future market op portunity and revenues will suffer, and our costs \n",
      "may not be recouped. Table of Contents \n",
      "17 • We are required to comply with governmental export and import r equirements that could subject us to liability \n",
      "and restrict our ability to sell our products and services, whi ch could impair our ability to compete in international \n",
      "markets. \n",
      "• Decreases in wafer volumes at our customers’ manufacturing site s or the volume of ICs that some of our \n",
      "customers are able to sell to the ir customers would cause our I ntegrated Yield Ramp revenue to suffer. \n",
      "• We acquired an early-stage battery-solutions provider and have been investing in research and development for \n",
      "new products and services beyond our traditional semiconductor focus, and it could take a long time to reach \n",
      "market acceptance and recoup our costs, if at all. \n",
      "• Our success depends upon our ability to effectively plan and ma nage our resources and restructure our business \n",
      "through rapidly fluctuating economic and market conditions, whi ch actions may have an adverse effect on our \n",
      "financial and operating results. \n",
      "• Our business may be negatively im pacted by social, political, g eopolitical, economic instability, unrest, war, \n",
      "terrorism, or other circumstances that could interrupt our busi ness operations, which could cause us to lose sales \n",
      "or delay or be unable to fulfill contractual commitments, which  may have an adverse effect on our financial and \n",
      "operating results. \n",
      "• Global economic conditions or semiconductor market conditions c ould materially adversel y impact demand for \n",
      "our products and services, decrease our sales, or delay our sal es cycle. \n",
      "• We face challenges in providing a  comprehensive s olution outsid e of the semiconductor industry due to \n",
      "limitations on the business areas in which we can use current t hird-party licensed technology, which may make \n",
      "it prohibitively expensive to se ll our solution for application s outside of our traditional industry. \n",
      "Risks Related to Our Technology \n",
      "• If we fail to protect our IP rights, customers or potential com petitors may be able to use our technologies to \n",
      "develop their own solutions, which could weaken our competitive  position, reduce our revenues, or increase our \n",
      "costs. \n",
      "• We are exposed to risks related to information technology infra structure, information management and protection, \n",
      "cybersecurity threats, and cyber incidents. \n",
      "• We and our customers are subject to laws and regulations concer ning data privacy, dat a security, consumer \n",
      "protection, and advertising and these laws and regulations are continually evolving, which exposes us to potential \n",
      "material risks. \n",
      "• Our technologies could infringe the IP rights of others, causin g costly litigation and the loss of significant rights. \n",
      "• Competition in the market for data analytics and related system s and services may intensify in the future, which \n",
      "could impede our ability to gr ow or execute our strategy. \n",
      "• Generative AI and the user other advanced AI technologies for s oftware development may subject us to claims \n",
      "of misappropriation of others’ IP, bugs/errors, and ambiguous o wnership of created content. \n",
      "Risks Related to Our Operations \n",
      "• Measurement of our variable consideration sometimes require dat a collection and customers’ use of estimates \n",
      "and are contingent upon customers’ consent and may be later off set if actual data differ from customers’ estimates, \n",
      "which can result in uncertainty a nd cause quarterly results to fluctuate. Table of Contents \n",
      "18 • We have customers with past due b alances and our failure to col lect a significant portion of such balances could \n",
      "adversely affect our cash, require us to write-off receivables,  or increase our expense or allowance for credit \n",
      "losses. \n",
      "• We face operational and financial risks associated with interna tional operations that could negatively impact our \n",
      "revenues. \n",
      "• Our business is subject to evolving corporate governance and pu blic disclosure regulations and expectations, \n",
      "including with respect to ESG matters that could expose us to n umerous risks. \n",
      "• Provision of certain of our da ta services relies on installing,  configuring, and operating proprietary configuration \n",
      "of hardware and software systems located in third-party facilit ies and errors affecting such facilities’ operations \n",
      "could lead to liability for us, a nd any objection from such thi rd-party facility or delay in providing us physical or \n",
      "logical access to our systems may  adversely impact our ability to timely perform our contract obligations or lead \n",
      "to confidentiality, integrity, availability, security, or priva cy controls exceptions. \n",
      "Tax Risks \n",
      " \n",
      "• U.S. federal tax reform and chan ges in foreign tax laws could c hange our tax burden and adversely affect our \n",
      "business and financial condition. \n",
      "• Future events may impact our deferred tax asset position, inclu ding the utilization of net operating loss and tax \n",
      "credit carryforwards. \n",
      "Risks Related to Our Strategic Transactions \n",
      "• We may devote significant time and resources to developing stra tegic relationships but we may not realize the \n",
      "benefits of such efforts, which could have an adverse effect on  our business and results of operations. \n",
      "• Our acquisitions create special r isks and challenges that could  adversely affect our  financial results. \n",
      "General Risk Factors \n",
      "• If we are not able to retain, a ttract, motivate, and strategica lly locate talented employees, including some key \n",
      "executives, our business may suffer. \n",
      "• Our earnings per share and other operating results may vary qua rter to quarter, which could result in not meeting \n",
      "investors’ expectations a nd stock price volatility. \n",
      "• Our business could be negatively affected as a result of action s of activist shareholders, and such activism could \n",
      "impact the trading value of our securities. \n",
      "Risks Associated with Our Business \n",
      "We have invested significant resources into research and development of our DFI system and Exensio software and if \n",
      "we fail to successfully carry out these initiatives on the expect ed timeline or at all, our business, financial condition, or \n",
      "results of operations could be adversely impacted. \n",
      "As part of the evolution of our business, we have made substant ial investments in research and development efforts \n",
      "to develop our DFI system and Exensio software. New competitors , technological advances in th e semiconductor industry \n",
      "or other competitive factors may require us to further invest s ignificantly greater resources t han we anticipate. If we invest  \n",
      "significantly greater resources  than anticipated without a corr esponding increase in revenue, our operating results could \n",
      "decline. The technologies and products that we invest in may no t result in products that creat e additional revenue, and we \n"
     ]
    }
   ],
   "source": [
    "print(raw_text)"
   ]
  },
  {
   "cell_type": "code",
   "execution_count": 39,
   "metadata": {},
   "outputs": [],
   "source": [
    "from langchain.text_splitter import RecursiveCharacterTextSplitter"
   ]
  },
  {
   "cell_type": "code",
   "execution_count": 40,
   "metadata": {},
   "outputs": [],
   "source": [
    "text_splitter = RecursiveCharacterTextSplitter(\n",
    "    chunk_size = 500,\n",
    "    chunk_overlap  = 100,\n",
    ")"
   ]
  },
  {
   "cell_type": "code",
   "execution_count": 41,
   "metadata": {},
   "outputs": [],
   "source": [
    "texts = text_splitter.split_text(raw_text)"
   ]
  },
  {
   "cell_type": "code",
   "execution_count": 42,
   "metadata": {},
   "outputs": [
    {
     "data": {
      "text/plain": [
       "91"
      ]
     },
     "execution_count": 42,
     "metadata": {},
     "output_type": "execute_result"
    }
   ],
   "source": [
    "len(texts)"
   ]
  },
  {
   "cell_type": "code",
   "execution_count": 43,
   "metadata": {},
   "outputs": [
    {
     "data": {
      "text/plain": [
       "'Table of Contents \\n9 understand root causes. Our full-reticle CV test chips use a sh ortened process flow to provide a faster \\nlearning cycle for speci fic process modules. \\n\\uf0a7 Our Scribe CV test chips are inserted directly on customers’ pr oduct wafers to collect data about critical \\nlayers. \\n\\uf0a7 Our DirectProbe™ CV test chips are designed to enable ultra-fas t yield learning for new product designs'"
      ]
     },
     "execution_count": 43,
     "metadata": {},
     "output_type": "execute_result"
    }
   ],
   "source": [
    "texts[0]"
   ]
  },
  {
   "cell_type": "code",
   "execution_count": 44,
   "metadata": {},
   "outputs": [],
   "source": [
    "from langchain_core.documents import Document"
   ]
  },
  {
   "cell_type": "code",
   "execution_count": 45,
   "metadata": {},
   "outputs": [],
   "source": [
    "docs = []\n",
    "for i in range(len(texts)):\n",
    "    doc = Document(page_content=texts[i])\n",
    "    docs.append(doc)"
   ]
  },
  {
   "cell_type": "code",
   "execution_count": 46,
   "metadata": {},
   "outputs": [
    {
     "data": {
      "text/plain": [
       "[Document(page_content='Table of Contents \\n9 understand root causes. Our full-reticle CV test chips use a sh ortened process flow to provide a faster \\nlearning cycle for speci fic process modules. \\n\\uf0a7 Our Scribe CV test chips are inserted directly on customers’ pr oduct wafers to collect data about critical \\nlayers. \\n\\uf0a7 Our DirectProbe™ CV test chips are designed to enable ultra-fas t yield learning for new product designs'),\n",
       " Document(page_content='by allowing our customers to measure components of actual produ ct layout and identify yield issues. \\n• pdFasTest ® Electrical Tester – Our proprietary electrical test hardware is optimized to quickl y test our CV test \\nchips, enabling fast defect and p arametric characterization of manufacturing processes. As part of the system \\noffering, we provide test progr ams for each CV test chip that a re tuned to the customer’s process. This automated'),\n",
       " Document(page_content='system provides parallel functional testing, thus minimizing th e time required to perform millions of electrical \\nmeasurements to test our CV test chips. We provide services to analyze the unique, differentiated data output of \\nthis tester using the Exensio Characterization software to prov ide actionable insights to our customers. \\n• Exensio Characterization software – This module, which is designed to integrate seamlessly with the  rest of the'),\n",
       " Document(page_content='Exensio software, collects the da ta generated from our CV test products, generating models of the performance \\neffects of process variations on these design building blocks. As part of the system offering, we also offer analysis \\nservices, if the customer elects not to do such analysis itself . \\nCimetrix® Software Products . Our Cimetrix software products enable equipment manufacturers  in the semiconductor'),\n",
       " Document(page_content='and electronics industries to provide standard interfaces on th eir products for efficient equi pment communication, control, \\nand data collection. Numerous industry standards have been esta blished for equipment connectivity and control, including \\nthe SEMI (Semiconductor Equipment and Materials International) defined SECS (SEMI Equipment Communication \\nStandard), GEM (Generic Equipment Model), GEM300, and EDA (equi pment data acquisition) standards. Our Cimetrix'),\n",
       " Document(page_content='products are designed to fully support these industry standards  to enable equipment manufacturers to implement robust, \\nturnkey support for these connectivity and control standards wi thout needing to invest engineering resources to develop \\ntheir own interfaces to these standards. Factories that purchas e manufacturing equipment enabled with Cimetrix-supported \\ninterfaces, benefit from consist ent and robust implementations of industry standards, enabling faster and more efficient'),\n",
       " Document(page_content='implementation of smart manufacturing initiatives that depend o n the collection and analysis of manufacturing and product \\ndata. Cimetrix products are sold via perpetual licenses and typ ically sold as part of a softw are development kit (“SDK”) \\nthat helps equipment manufacturers implement them quickly. We c harge a one-time fee per equipment product type for \\nthe SDK license and a one-time fee for each piece of equipment shipped that includes the Cimetrix runtime license.'),\n",
       " Document(page_content='• Equipment Factory Connectivity – Our products for equipment factory connectivity primarily inclu de the \\nfollowing:  \\n\\uf0a7 Cimetrix CIMConnect ™ is a SEMI SECS/GEM interface to the factory host for automate d control and \\ndata collection. The Cimetrix CIMConnect module supports multip le-host interfaces simultaneously, \\nwhich allows customers to support legacy, custom, and GEM inter faces. Cimetrix CIMConnect is used'),\n",
       " Document(page_content='which allows customers to support legacy, custom, and GEM inter faces. Cimetrix CIMConnect is used \\nin semiconductor wafer fabrication, semiconductor back-end (tes t, assembly, and packaging), PV, HB-\\nLED, disk drive, flat panel displays, printed circuit boards an d other electronics manufacturing. In \\naddition to enabling the implementation of the SEMI SECS/GEM st andards E4, E5, E30, E37, E172, \\nand E173, Cimetrix CIMConnect also supports SEMI PV2 (PVECI), A 3 (PCBECI), and HB4 (HB-LED'),\n",
       " Document(page_content='and E173, Cimetrix CIMConnect also supports SEMI PV2 (PVECI), A 3 (PCBECI), and HB4 (HB-LED \\nECI) standards. \\n\\uf0a7 Cimetrix CIM300 ™ is a GEM interface for 300mm equipment using SEMI standards, including E39, \\nE40, E87, E90, E94, E116, E148, and E157. These SEMI standards allow for the full automation \\nrequired in manufacturing 300mm wafers. Cimetrix CIM300 manages  the interdependencies between \\nthe standards and simp lifies complex scenarios for easy impleme ntation of the standards. These'),\n",
       " Document(page_content='the standards and simp lifies complex scenarios for easy impleme ntation of the standards. These \\nGEM300 standards are required for full automation in manufactur ing of 300mm wafers. Cimetrix Table of Contents \\n10 CIM300 works with Cimetrix CIMConnect to implement the GEM300 a nd the original GEM suite of \\nstandards. \\n\\uf0a7 Cimetrix CIMPortal ™ Plus is an interface for EDA, also kn own as Interface A. The EDA st andards are'),\n",
       " Document(page_content='E120, E125, E132, E134, E138, E 147, and E164. Cimetrix CIMPorta l Plus implements the EDA \\nstandards in a flexible architect ure that collects data from mu ltiple sources and routes the data to multiple \\nclients simultaneously. Factorie s can use the data gathered thr ough EDA interfaces for FDC, run-to-run \\nadvanced process control, equipment health monitoring, chamber/ tool matching, predictive'),\n",
       " Document(page_content='advanced process control, equipment health monitoring, chamber/ tool matching, predictive \\nmaintenance, virtual metrology, diagnostics, and many other equ ipment-related analytical applications. \\n• Equipment Factory Connectivity Testing –  We provide the following produc ts for testing the interfaces d eveloped \\nusing our equipment factory connectivity products: Cimetrix Equ ipmentTest™, for testing and validating'),\n",
       " Document(page_content='compliance with the GEM and GEM300 standards, Cimetrix EDATeste r™, for testing and validating compliance \\nwith the EDA/Interface A standard s, and performan ce testing of the interface, and Cimetrix ECCE Plus™ for \\nquick testing of the EDA /Interface A interface.  \\n• Equipment Control –  Our equipment control product is the Cimetrix CIMControlFramew ork™ (“Cimetrix CCF”) \\nsoftware, which includes components for supervisory control, ma terial handling, operator interface, platform'),\n",
       " Document(page_content='control, and factory automation requirements, to allow equipmen t manufacturers to meet the requirements of \\nfabrication facilities. Developer s can leverage framework compo nents through configuration and extension or \\ncustomize the framework when unique requirements exist. Cimetri x CCF is designed to allow data generated at \\nany point on the equipment to be quickly and easily accessed by  other modules or external applications. Cimetrix'),\n",
       " Document(page_content='CIMConnect, Cimetrix CIM300, and Cimetrix CIMPortal Plus are in tegrated with Cimetrix CCF to support the \\nSEMI GEM, GEM300, and E DA/Interface A standards.  \\nServices \\nOur services are almost always s old together with, or to suppor t, our products and include the following: \\nSoftware-as-a-Service –  We provide services to make our  Exensio software available to our customers via the Internet,'),\n",
       " Document(page_content='generally hosted by third-party providers. SaaS is considered p art of cloud computing since the software is hosted on the \\nInternet, or the “cloud.” Since  our SaaS applications are acces sed from a remote server rather than installed on individual \\nmachines, it is easier to maintain. For example, when the remot e software is updated, the customer’s interface is also \\nupdated for all users. Cloud computing is designed to eliminate  incompatibilities between differ ent software versions and'),\n",
       " Document(page_content='allow us to make incremental updates without requiring software  downloads. Additionally, our customers can save data to \\na central online location, which is designed to allow increased  project collaboration. As part of these services, we also \\ntypically provide hosted management services for the software a nd the customer’s data stored in our cloud. These services \\ninclude environment set-up and configuration, system health mon itoring, data integration maintenance, integration'),\n",
       " Document(page_content='monitoring, system updates, security, and data upload/download,  and license administration. \\nSoftware Related Services  – We provide software maintenance and support (“M&S”), data ma nagement services, \\nvarious value-added services (“VAS”) to install, configure, or create analysis templates, and other professional services to \\nachieve customers’ specific outcomes using our software. We cal l this last type of services our solutions offering and, in'),\n",
       " Document(page_content='these cases, we tailor the use of  one or more Exensio products to achieve a desired result. For example, our AIM \\nYieldAware™ FDC solution offering is designed to identify the p rocess control variables that have the greatest impact on \\nproduct yield through professional services that analyze the da ta from both Exensio Proce ss Control and elements of \\nExensio Manufacturing Analytics and make recommendations for th e customer to implement. VAS are provided by our'),\n",
       " Document(page_content='professional service personnel w ith expertise that enhances and  complements the engineering teams at our customers. For \\nexample, VAS includes our data cleaning and monitoring services . One requirement of big data analytics is to have clean, \\nharmonized data to analyze. This service offering outsources th e data wrangling and management effort to free the \\ncustomer to focus their efforts on analysis, which has a greate r ROI to the company than data management.'),\n",
       " Document(page_content='Characterization Services  – These services are designed to characterize key product and/ or process elements, \\nprimarily into CV test structures  or DFI on-chip measurement in struments, and typically do not include performance Table of Contents \\n11 incentives based on the customers’ yield achievement. We provid e these services, typically together with all elements of \\nour CV system, to foundry customers in connection with new proc ess technology development and/or yield ramp. In'),\n",
       " Document(page_content='Characterization engagements, we generally provide the analysis  of our CV test chips and provide summary findings and \\nrecommendations to the customer. Characterization engagements c an include DFI systems. \\nCustomers \\nOur existing customers include f oundries, IDMs, fabless semicon ductor design companies, OSATs, equipment \\nmanufacturers, EMS, and ODMs, including those that embed and di stribute our Assembly Operations modules in their'),\n",
       " Document(page_content='equipment. Our semiconductor customers’ targeted product segmen ts vary significantly, including microprocessors, \\nmemory, graphics, image sensor solutions, and communications. W e believe that the adoption of our solutions by such \\ncompanies for usage in a wide range of products validates the a pplication of our solutions to the broader semiconductor \\nmarket. We often have multiple contracts with a single customer  or customer group, with no in terdependent performance'),\n",
       " Document(page_content='obligations. In general, our customer contracts are non-cancell able. \\nOne customer accounted for 35% of  our revenues for 2023, two cu stomers accounted for 41% of our revenues for \\n2022 and two customers accounted for 27% of our revenues for 20 21. No other customers accounted for 10% or more of \\nour revenues in 2023, 2022 and 2021. Also, two customers accoun ted for 50% of our gross accounts receivable as of'),\n",
       " Document(page_content='December 31, 2023, and three cust omers accounted for 53% of our  gross accounts receivable as of December 31, 2022. \\nWe generally do not require collateral or other security to sup port accounts receivable. See the discussion in “Risk Factors” \\nunder Item 1A for more information about risks associated with customer concentration and contractual provisions. \\nInternational revenues accounted for approximately 44%, 50% and  55% of our total revenues for 2023, 2022 and'),\n",
       " Document(page_content='2021, respectively. We base these calculations on the geographi c location of where the work is performed or where the \\ncustomer is located. Revenues from customers by geographic area  based on the location of the customers’ work sites for \\nthe last three fiscal years can be  found in Note 11, “Customer and Geographic Information” to the consolidated financial \\nstatements. Additional discussion  regarding the risks associate d with international operations can be found under Item 1A,'),\n",
       " Document(page_content='“Risk Factors”. \\nSee our “Notes to Consolidated F inancial Statements”, included under Part II, Item 8. “Financial Statements and \\nSupplementary Data” for additional geographic information. \\nSales and Marketing \\nOur sales strategy is primarily  to pursue targeted accounts thr ough a combination of our direct sales force, our service \\nteams, and strategic alliances. After we are engaged by a custo mer and early in the services p rocess, our engineers seek to'),\n",
       " Document(page_content='establish relationships in the organization and gain an underst anding of our customers’ business issues. Our direct sales \\nand service teams combine their efforts to deepen our customer relationships by expanding our penetration across \\ncustomers’ products, processes, and technologies. This close wo rking relationship with each customer has the added \\nbenefit of helping us to identify new product areas and technol ogies in which we should next focus our research and'),\n",
       " Document(page_content='development efforts. From time-to -time, we use sales representa tives/agents in various locations to augment direct sales \\nin certain territories.  \\nWe expect to continue to establish strategic alliances with pro cess licensors, vendors in the electronic design \\nautomation software, capital equipment for IC production, and t est silicon IP and mask-making s oftware segmen ts to create'),\n",
       " Document(page_content='and take advantage of sales channel and co-marketing opportunit ies. Additionally, we expect to form relationships with \\nkey value chain participants, including foundries and OSATs, to  provide services and value across the manufacturing \\nsupply chain. \\nResearch and Development \\nOur research and development focuses on developing and introduc ing new proprietary technologies for our'),\n",
       " Document(page_content='comprehensive platform, including our Exensio software, Cimetri x connectivity and control products, and DFI and CV \\nsystems, as well as other software products and enhancements to  our existing solutions, such as field applications for DFI Table of Contents \\n12 and CV and new applications targeted to inter-operate with stra tegic partner products. We use a rapid-prototyping \\nparadigm in the context of the customer engagement to achieve t hese goals. We have made, and expect to continue to'),\n",
       " Document(page_content='make, substantial investments in research and development. The complexity of our technologies requires expertise in \\nstandards, physical IC design and layout, transistor design and  semiconductor physics, semiconductor process integration, \\nnumerical algorithms, e-beam tech nology, hardware, statistics a nd software development. We believe that our team of \\nengineers will continue to advance our market and technological  leadership. We conduct in-house training for our'),\n",
       " Document(page_content='engineers in certain technical ar eas. Our training also extends  to focusing on ways to enhance customer service skills. \\nAlthough it fluctuates, we can have up to one quarter of our re search and development engineers assigned to one or more \\nprojects, partnered with solutio n services engineers, in a deli berate strategy to provide direct feedback between technology \\ndevelopment and customer needs. We also utilize a variety of sk illed independent contractors for specialized development.'),\n",
       " Document(page_content='Competition \\nThe semiconductor industry is highly competitive and driven by rapidly changing design and process technologies, \\nevolving standards, short product life cycles, and decreasing p rices. We expect market competition to continue to develop \\nand increase as the market for data and analytics continues to evolve. We believe IC companies benefit from a combination \\nof big data management infrastructure, AI/ML-based analytics en gines, and products that generate and collect'),\n",
       " Document(page_content='differentiated data that enrich the analytics process. Currentl y, we are a leading provider o f comprehensive commercial \\nhardware, software and IP solutions for optimizing and improvin g design, manufacturing and test operations processes \\nthrough the application of differentiated data and advanced ana lytics. As a result, we face c ompetition from three primary \\ngroups: internal customer development or design programs, equip ment solutions providers, and providers of analytical and'),\n",
       " Document(page_content='design software. We face indir ect competition from internal gro ups at IC companies that offer tools with varying degrees \\nof optimization to accelerate pr ocess-design integration or tes t operations. Some providers of semiconductor \\nmanufacturing software, inspection equipment, electronic design  automation, or design IP may seek to broaden their \\nproduct offerings and compete with us. In addition, companies p roviding general ML and analytics software may focus on'),\n",
       " Document(page_content='semiconductor companies and comp ete with us. In each of the mar ket segments we compete in, we face competition from \\nestablished and potential competitors, some of whom may have gr eater financial, research, engineering, manufacturing \\nand marketing resources than we have. \\nWe currently face indirect compe tition from the i nternal groups  at IC companies and direct competition from providers'),\n",
       " Document(page_content='of (i) yield management and/or prediction systems, such as KLA Corporation (“KLA”), Siemens AG (“Siemens”), Onto \\nInnovation, Inc. (“Onto”), and Synopsys, Inc. (“Synopsys”); (ii ) semiconductor manufacturing software, such as Applied \\nMaterials, Inc (“Applied Materials”), Synopsys, Invantest, Inc. , Emerson Electric Co., Onto,  and Siemens; (iii) inline \\ninspection, metrology and electrical test equipment providers, such as ASML Holding N.V. (“ASML”), Applied Materials,'),\n",
       " Document(page_content='KLA, and Keysight Technologies, Inc.; and, (iv) connectivity so ftware or integration products/services supporting factory \\nequipment connectivity or control needs of customers, such as P E E R  G r o u p ,  I n c . ,  K o n t r o n  A I S ,  G m b H ,  Y o k o g a w a  \\nElectric Corp., Advantest, and Kornic Automation Co. Ltd. There  may be other providers of competitive commercial'),\n",
       " Document(page_content='solutions of which we are not aware, and we may compete with th e products or offerings of these named companies or \\nadditional companies if we expa nd our offerings through acquisi tions or development. For example, since our acquisition \\nof Cimetrix in late 2020, we now face competition in the produc ts/services supporting the connectivity, control and \\nintegration of factory equipment. The demand for solutions that  address the need for better integration between the silicon'),\n",
       " Document(page_content='design and manufacturing processes may encourage direct competi tors to enter our market. For example, in 2020, two of \\nour competitors were acquired by larger entities, Synopsys acqu ired Qualtera and NI, Inc. acquired Optimal+, and each \\nhas increased marketing or pricing competition with us. For exa mple, in 2023, Emerson Electric Co. acquired NI, Inc. This \\ncompetition in our market may intensify in the future, which co uld lead to increased pricing pressure, negatively impacting'),\n",
       " Document(page_content='our revenues, and slow our ability to grow or execute our strat egy. Also, our current and potential customers may choose \\nto develop their own solutions internally, particularly if we a re slow in deploying our solutions or improving them to meet \\nmarket needs. These and other competitors may be able to operat e  w i t h  a  l o w e r  c o s t  s t r u c t u r e  t h a n  o u r  e n g i n e e r i n g'),\n",
       " Document(page_content='organization, which would give any such competitor’s products a  competitive advantage over our solutions. \\nWe believe that our solutions compare favorably with respect to  competition because we have demonstrated results \\nand reputation, strong core technology, ability to create innov ative technology, and ability to implement solutions for new \\ntechnology and product generations. See the discussions in “Ris k Factors” under Item 1A for more information about risks'),\n",
       " Document(page_content='associated with our competition. Table of Contents \\n13 Human Capital Management \\nWe believe that our future success will depend, in part, on our  continued ability to hire and retain qualified \\nmanagement, sales, and technical employees. Consequently, we se ek to engage in sound ethical and organizational \\ngovernance, promote business et hics and integrity, and embrace equality, diversity, and inclusion throughout our \\norganization.'),\n",
       " Document(page_content='organization. \\nAs of December 31, 2023, we had 493 employees worldwide, includ ing 171 field application engineers and \\nconsultants, 155 in research and development, 106 in sales and marketing, and 61 in general and administrative functions. \\nOf these employees, 285 are lo cated in the United States, 172 i n Asia, and 36 in Europe. \\nNone of our employees are represented by a labor union. Our emp loyees in France and Italy are subject to collective \\nbargaining agreements in those countries.'),\n",
       " Document(page_content='bargaining agreements in those countries. \\nOur commitment to human capital management  is embedded in our governance structure \\nAt the Board level, our Compensation and Human Capital Manageme nt Committee is tasked with oversight of the \\ndevelopment, implementation and effectiveness of our policies a nd strategies relating to human capital management, \\nincluding strategies regarding recruiting, selection, career de velopment and progression, and diversity and employment'),\n",
       " Document(page_content='practices. Further, our Nominatin g and Corporate Governance Com mittee is tasked with primary oversight for governance \\nand ESG issues. \\nTalent Development \\nWe are committed to the development and growth of our employees  because we believe this is crucial for our long-\\nterm success. This includes offering training, mentorship, and other development opportunities to further enhance the \\ntalent we have today, but also entails having the right skill s ets for our future.'),\n",
       " Document(page_content='talent we have today, but also entails having the right skill s ets for our future. \\nTo this end, we are working to implement a planned set of actio ns around increasing formal programs to achieve these \\ngoals. We believe that our team o f engineers will continue to a dvance our market and technol ogical leadership. We conduct \\nin-house training for our engin eers in certain technical areas.'),\n",
       " Document(page_content='in-house training for our engin eers in certain technical areas.  \\nWe also fund attendance at continuing education courses, sympos ia, and participation in professional organizations. \\nEmployee Engagement \\nEmployee engagement is crucial for the overall health of the or ganization. In 2023, we conducted a survey of all our \\nemployees to assess overall employee engagement. \\nIn addition to our efforts to address employee engagement, we a re committed to supporting our employees and'),\n",
       " Document(page_content='creating an engaged workforce by  prioritizing the items below: \\n• personal growth through training and development; \\n• recognizing and rewarding our peo ple for their commitment to ou r values and our organization; \\n• flexible work locations and schedules; and \\n• providing a sense of organizational community by hosting online  as well as in-person events where our people \\ncan gather and connect. Table of Contents \\n14 Health and Safety'),\n",
       " Document(page_content='can gather and connect. Table of Contents \\n14 Health and Safety \\nWe are committed to ensuring that proper working conditions exi s t  f o r  t h e  s a f e t y  o f  o u r  e m p l o y e e s ,  s u c h  a s  \\ndeveloping, implementing, and improving health and safety syste ms and conditions, and providing appropriate \\npreparation, education, reporting, and controls. \\nDiversity, Equity, and Inclusion'),\n",
       " Document(page_content='preparation, education, reporting, and controls. \\nDiversity, Equity, and Inclusion \\nWe work to ensure that our business practices support diversity  and inclusion to build an innovative workforce and to \\nstrive toward having our organization reflect the complexion of  o ur c u s t om e r s  a n d s up pl i e rs .  In F e br ua r y 2 02 4,  a ft e r  \\nconsidering the recommendation of the Nominating and Corporate Governance Committee, the Compensation and Human'),\n",
       " Document(page_content='Capital Management Committee approved, and then our Board adopt ed, a Human Rights policy and a Diversity, Equity, \\nand Inclusion (“DEI”) Policy to b etter implement our core value s and relevant standards into our governance structure.  \\nWe are strengthening our diversity and inclusion programs with actions around organizational training, on-going \\neducation and focus on our company values, and a revitalized re cruitment strategy.'),\n",
       " Document(page_content='education and focus on our company values, and a revitalized re cruitment strategy. \\nWe value a range of diverse perspectives with reference to our business model and specific needs, including, but not \\nlimited to, gender, age, race, lan guage, cultura l background, e ducational background, industry experience, professional \\nexperience, and veteran and activ e armed service status or othe r similar characteristics.  \\nInformation about our Executive Officers'),\n",
       " Document(page_content='Information about our Executive Officers \\nThe following table and notes set forth information about our c urrent executive officers as of the date of this \\nForm 10  -  K. \\n   \\nName       Age      Position\\nJ o h n  K .  K i b a r i a n ,  P h . D .  .....  5 9  P r e s i d e n t ,  C h i e f  E x e c u t i v e  O f ficer, and Directo r \\nA d n a n  R a z a  ...............  5 1  E x e c u t i v e  V i c e  P r e s i d e n t ,  F i n a n c e and Chief Financial Office r'),\n",
       " Document(page_content='K i m o n  W .  M i c h a e l s ,  P h . D .  ...  5 7  E x e c u t i v e  V i c e  P r e s i d e n t ,  P r o d ucts and Solutions and Directo r\\nAndrze j Stro jw a s ,  P h . D .  .....  7 1  C h i e f  T e c h n o l o gy Office r\\nJohn K. Kibarian, Ph.D. , one of our founders, has served as President since November 1 991 and has served as our \\nChief Executive Officer since July  2000. Dr. Kibarian has serve d as a director on our Board of Directors since'),\n",
       " Document(page_content='December 1992. Dr. Kibarian recei ved a B.S. in Electrical Engin eering, an M.S. E.C.E. and a Ph.D. E.C.E. from Carnegie \\nMellon University. \\nAdnan Raza , joined in January 2020 as Executive Vice President, Finance, and was appointed Chief Financial Officer \\neffective in March 2020. Prior t o joining the Company, Mr. Raza  served as an independent strategy consultant for private'),\n",
       " Document(page_content='and public companies from July 2019 to January 2020. Prior to t hat, Mr. Raza served in various roles at Synaptics Inc., a \\ndeveloper of human interface technologies, including as Senior Vice President of Corporate Development from \\nAugust 2017 to June 2019 and Vice President of Corporate Develo pment from February 2015 to August 2017. Prior roles \\ninclude technology investment banking at Goldman, Sachs & Co. a nd UBS Investment Bank, strategic advising at'),\n",
       " Document(page_content='Blackreef Capital, engineering and  marketing at Azanda Network Devices, and engineering at Lucent Technologies. \\nMr. Raza also served as a Board M ember at FIDO Alliance, an all iance of leading technology companies to enhance user \\nsecurity and authentication. Mr . Raza holds an M.B.A. from The Wharton School at the University of Pennsylvania, a \\nM. Eng. in Electrical Engineerin g from Cornell University, and a B.S. in Electrical Engineering from Valparaiso \\nUniversity.'),\n",
       " Document(page_content='University. \\nKimon W. Michaels, Ph.D. , one of our founders, has served as Vice President, Products a nd Solutions since July 2010 \\nand was designated as an Executive VP in February 2019. Dr. Mic haels served as Vice President, Design for \\nManufacturability from June 2007 through June 2010. Prior to th at, Dr. Michaels served as Vice President, Field \\nOperations for Manufacturing Process Solutions from January 200 6 through May 2007, and has served as a director on'),\n",
       " Document(page_content='our Board of Directors since November 1995. From March 1993 thr ough December 2005, he served in various vice \\npresidential capacities. He also served as Chief Financial Offi cer of the Company from November 1995 to July 1998. \\nDr. Michaels received a B.S. in Electrical Engineering, and M.S . E.C.E. and a Ph.D. E.C.E. from Carnegie Mellon \\nUniversity. Table of Contents \\n15 Andrzej Strojwas, Ph.D. , served as a technical advisor to the Company from our foundin g until 2021 and as chief'),\n",
       " Document(page_content='technologist from 1997 to 2021. He joined the Company as an emp loyee in July 2021 as Vice President and Technical \\nGeneral Manager, and was appointed Chief Technology Officer eff ective December 2021. From October 1982 to \\nJuly 2021, Dr. Strojwas was the Keithley Professor of Electrica l and Computer Engineering at Carnegie Mellon \\nUniversity. In addition, Dr. Strojwas has held senior technical  positions at Harris Semiconductor Co., AT&T Bell Labs,'),\n",
       " Document(page_content='Texas Instruments, NEC, Hitachi, SEMATECH, and KLA. He holds an  M.S. in Electronic Engineering from Warsaw \\nTechnical University and a Ph.D. in Electrical Engineering from  Carnegie Mellon University. \\nAvailable Information \\nWe file or furnish various reports, such as registration statem ents, periodic and current reports, proxy statements and \\nother materials with the SEC. Our Internet website address is w ww.pdf.com. You may obtain, free of charge on our'),\n",
       " Document(page_content='website, copies of our annual reports on Form 10  -  K, quarterly reports on Form 10  -  Q, current reports on Form 8  -  K, and \\namendments to those reports filed or furnished pursuant to Sect ion 13(a) or 15(d) of the Exchange Act, as soon as \\nreasonably practicable after we electronically file such materi al with, or furnish it to, the SEC. The Company’s website \\naddress provided is not intended to function as a hyperlink, an d the information on the Company’s website is not, and'),\n",
       " Document(page_content='should not be considered, part of this Annual Report on Form 10  -  K and is not incorporated by reference herein. \\nThe SEC maintains a Web site ( http://www.sec.gov) that contains  reports, proxy and information statements and other \\ninformation regarding issuers, s uch as us, that file electronic ally with the SEC. \\n  Table of Contents \\n16 Item 1A. Risk Factors \\nA description of the risk factors associated with our business is set forth below. Some of th ese risks are highlighted in'),\n",
       " Document(page_content='the following discussion, and in M anagement’s Discussion and An alysis of Financial Condition and Results of Operations, \\nLegal Proceedings, and Quantitative and Qualitative Disclosures  About Market Risk. The occurrence of any of these risks \\nor additional risks and uncertainties not presently known to us  or that we currently believe to be immaterial could materially  \\nand adversely affect our business, operating results, financial  condition, and stock price. These risks and uncertainties'),\n",
       " Document(page_content='could cause our actual results to differ materially from the re sults contemplated by the forward-looking statements \\ncontained in this report. Investors should carefully consider a ll relevant risks and uncertainties before investing in our \\ncommon stock. \\nRisk Factors Summary \\nRisks Associated with Our Business \\n• We have invested significant resources into research and develo pment of our DFI system and Exensio software'),\n",
       " Document(page_content='and if we fail to successfully carry out these initiatives on t he expected timeline or at all, our business, financial \\ncondition, or results of operati ons could be adversely impacted . \\n• Our sales cycle is lengthy and customers may delay entering int o contracts or decide not to adopt our products or \\nsolutions after we have performed services or supported their e valuation of our technology, which could result in'),\n",
       " Document(page_content='delays in recognizing revenue and could negatively impact our r esults of operations in a quarter or result in lower \\nrevenue than we expected if a contract is not consummated. \\n• We rely on sole-source providers for certain software as well a s for specialized parts for our eProbe hardware and \\nsupply-chain delays or disrupti ons could increase our costs or impact our ability to provide complete software'),\n",
       " Document(page_content='solutions or to build additional hardware tools or meet custome r expectations or deadlines, which could result in \\nlost sales and lower earnings. \\n• Our fixed-fee services for product or system installations/conf igurations may take longer than budgeted, which \\ncould slow our revenue recognition and may result in a lost con tract or a claim of breach by our customers, which \\nwould negatively affect our fin ancial and operating results.'),\n",
       " Document(page_content='would negatively affect our fin ancial and operating results. \\n• Our ability to sell our products , systems, and solutions depend s in part on the quality of our support and services \\nofferings, and the failure to offer high-quality support and se rvices could negatively affect our sales and results \\nof operations. \\n• Defects in our proprietary technologies, hardware and software tools, and failure to effectively remedy any such'),\n",
       " Document(page_content='defects could decrease our revenue and our competitive market s hare. \\n• Objectionable disclosure of our customers’ confidential informa tion or our failure to comply with our customers’ \\nsecurity rules, including for those related to SaaS access, AI use, or our on-site access, could result in costly \\nlitigation, cause us to lose existing and potential customers, or negatively impact on-going business with existing \\ncustomers.'),\n",
       " Document(page_content='customers. \\n• We generate a significant portion of our revenues from a limite d number of customers, and a large percentage of \\nour revenues from one customer, so defaults or decreased busine ss with, or the loss of, any one of these customers, \\nor pricing pressure, or customer consolidation could significan tly reduce our revenues or margins and negatively \\nimpact results o f operations. \\n• If we do not continuously meet our development milestones of ke y research and development projects or'),\n",
       " Document(page_content='successfully commercialize our DFI system, our future market op portunity and revenues will suffer, and our costs \\nmay not be recouped. Table of Contents \\n17 • We are required to comply with governmental export and import r equirements that could subject us to liability \\nand restrict our ability to sell our products and services, whi ch could impair our ability to compete in international \\nmarkets.'),\n",
       " Document(page_content='markets. \\n• Decreases in wafer volumes at our customers’ manufacturing site s or the volume of ICs that some of our \\ncustomers are able to sell to the ir customers would cause our I ntegrated Yield Ramp revenue to suffer. \\n• We acquired an early-stage battery-solutions provider and have been investing in research and development for \\nnew products and services beyond our traditional semiconductor focus, and it could take a long time to reach \\nmarket acceptance and recoup our costs, if at all.'),\n",
       " Document(page_content='market acceptance and recoup our costs, if at all. \\n• Our success depends upon our ability to effectively plan and ma nage our resources and restructure our business \\nthrough rapidly fluctuating economic and market conditions, whi ch actions may have an adverse effect on our \\nfinancial and operating results. \\n• Our business may be negatively im pacted by social, political, g eopolitical, economic instability, unrest, war,'),\n",
       " Document(page_content='terrorism, or other circumstances that could interrupt our busi ness operations, which could cause us to lose sales \\nor delay or be unable to fulfill contractual commitments, which  may have an adverse effect on our financial and \\noperating results. \\n• Global economic conditions or semiconductor market conditions c ould materially adversel y impact demand for \\nour products and services, decrease our sales, or delay our sal es cycle.'),\n",
       " Document(page_content='our products and services, decrease our sales, or delay our sal es cycle. \\n• We face challenges in providing a  comprehensive s olution outsid e of the semiconductor industry due to \\nlimitations on the business areas in which we can use current t hird-party licensed technology, which may make \\nit prohibitively expensive to se ll our solution for application s outside of our traditional industry. \\nRisks Related to Our Technology'),\n",
       " Document(page_content='Risks Related to Our Technology \\n• If we fail to protect our IP rights, customers or potential com petitors may be able to use our technologies to \\ndevelop their own solutions, which could weaken our competitive  position, reduce our revenues, or increase our \\ncosts. \\n• We are exposed to risks related to information technology infra structure, information management and protection, \\ncybersecurity threats, and cyber incidents.'),\n",
       " Document(page_content='cybersecurity threats, and cyber incidents. \\n• We and our customers are subject to laws and regulations concer ning data privacy, dat a security, consumer \\nprotection, and advertising and these laws and regulations are continually evolving, which exposes us to potential \\nmaterial risks. \\n• Our technologies could infringe the IP rights of others, causin g costly litigation and the loss of significant rights.'),\n",
       " Document(page_content='• Competition in the market for data analytics and related system s and services may intensify in the future, which \\ncould impede our ability to gr ow or execute our strategy. \\n• Generative AI and the user other advanced AI technologies for s oftware development may subject us to claims \\nof misappropriation of others’ IP, bugs/errors, and ambiguous o wnership of created content. \\nRisks Related to Our Operations'),\n",
       " Document(page_content='Risks Related to Our Operations \\n• Measurement of our variable consideration sometimes require dat a collection and customers’ use of estimates \\nand are contingent upon customers’ consent and may be later off set if actual data differ from customers’ estimates, \\nwhich can result in uncertainty a nd cause quarterly results to fluctuate. Table of Contents \\n18 • We have customers with past due b alances and our failure to col lect a significant portion of such balances could'),\n",
       " Document(page_content='adversely affect our cash, require us to write-off receivables,  or increase our expense or allowance for credit \\nlosses. \\n• We face operational and financial risks associated with interna tional operations that could negatively impact our \\nrevenues. \\n• Our business is subject to evolving corporate governance and pu blic disclosure regulations and expectations, \\nincluding with respect to ESG matters that could expose us to n umerous risks.'),\n",
       " Document(page_content='including with respect to ESG matters that could expose us to n umerous risks. \\n• Provision of certain of our da ta services relies on installing,  configuring, and operating proprietary configuration \\nof hardware and software systems located in third-party facilit ies and errors affecting such facilities’ operations \\ncould lead to liability for us, a nd any objection from such thi rd-party facility or delay in providing us physical or'),\n",
       " Document(page_content='logical access to our systems may  adversely impact our ability to timely perform our contract obligations or lead \\nto confidentiality, integrity, availability, security, or priva cy controls exceptions. \\nTax Risks \\n \\n• U.S. federal tax reform and chan ges in foreign tax laws could c hange our tax burden and adversely affect our \\nbusiness and financial condition. \\n• Future events may impact our deferred tax asset position, inclu ding the utilization of net operating loss and tax'),\n",
       " Document(page_content='credit carryforwards. \\nRisks Related to Our Strategic Transactions \\n• We may devote significant time and resources to developing stra tegic relationships but we may not realize the \\nbenefits of such efforts, which could have an adverse effect on  our business and results of operations. \\n• Our acquisitions create special r isks and challenges that could  adversely affect our  financial results. \\nGeneral Risk Factors'),\n",
       " Document(page_content='General Risk Factors \\n• If we are not able to retain, a ttract, motivate, and strategica lly locate talented employees, including some key \\nexecutives, our business may suffer. \\n• Our earnings per share and other operating results may vary qua rter to quarter, which could result in not meeting \\ninvestors’ expectations a nd stock price volatility. \\n• Our business could be negatively affected as a result of action s of activist shareholders, and such activism could'),\n",
       " Document(page_content='impact the trading value of our securities. \\nRisks Associated with Our Business \\nWe have invested significant resources into research and development of our DFI system and Exensio software and if \\nwe fail to successfully carry out these initiatives on the expect ed timeline or at all, our business, financial condition, or \\nresults of operations could be adversely impacted. \\nAs part of the evolution of our business, we have made substant ial investments in research and development efforts'),\n",
       " Document(page_content='to develop our DFI system and Exensio software. New competitors , technological advances in th e semiconductor industry \\nor other competitive factors may require us to further invest s ignificantly greater resources t han we anticipate. If we invest  \\nsignificantly greater resources  than anticipated without a corr esponding increase in revenue, our operating results could'),\n",
       " Document(page_content='decline. The technologies and products that we invest in may no t result in products that creat e additional revenue, and we')]"
      ]
     },
     "execution_count": 46,
     "metadata": {},
     "output_type": "execute_result"
    }
   ],
   "source": [
    "docs"
   ]
  },
  {
   "cell_type": "code",
   "execution_count": 47,
   "metadata": {},
   "outputs": [
    {
     "data": {
      "text/plain": [
       "['15f289f34eb04382ac2efffaf64ded34',\n",
       " '996fd00b707e4b3482536bb3a1146cba',\n",
       " '8726c892667d4b188eb8eb6fa2e220c3',\n",
       " '34a0e22d7fba4780864a0842c5461c26',\n",
       " 'ca3b9fc81b574592b01b4e539b95c2ba',\n",
       " 'beb55b7cf6ae425e9bbf7ffa739f0f9a',\n",
       " '25233def11454eaea17d3fb4f96b0412',\n",
       " '01edfe06f6d741bfaed0e329bd839758',\n",
       " '3a7ba7a4d68a402587ce234d71ad2415',\n",
       " 'd6cc6cc7bac0438a9420e44109809b3f',\n",
       " 'bec3139fae71463cbe5a4167c5662f4b',\n",
       " '4d0687efdc304322b9ec4cb32ec83c27',\n",
       " '8c9b514a59f540ffaa9d8e5adf7aec96',\n",
       " 'b9270ed8ecb24193849f65a75848c32d',\n",
       " '20ea89084ca24cd4b09a290a6a616098',\n",
       " '4c20383f551e471eb54708d9e644ea00',\n",
       " '820eb3f280a74fe2b25cae5b2ba57029',\n",
       " 'c4d45150eaf142e08f605c302bc086c9',\n",
       " '53d1ed4d39634017a7430c380b65714f',\n",
       " '0b6e79d81d394bfa9974bbcf9235342b',\n",
       " 'd0a0e21db45c4304902eb40824a731e6',\n",
       " '6e4bf278033443cbab55c6817f10d433',\n",
       " 'ea5b52ca7ad64598ab1ec1cc63883a7f',\n",
       " '69dda56a94914266ac33761e1e15c0a7',\n",
       " 'ce9b2bf622dd4fb6b8013f0dc1aac332',\n",
       " '004b9462e5d540f7a13ec7b9b1ab7a93',\n",
       " '55f5e1dbbc1941d9be06f70c8fb3f907',\n",
       " '56870a7954be48f286accef3f3dc4c9b',\n",
       " 'd6e2ab0fd6d44e9d9eb35f2a708d73ec',\n",
       " 'd583abc45c9144fb89c290e1da65e423',\n",
       " 'e2c5d0cb261943d38d69859d306492d6',\n",
       " '96ba2673cbaa420ca61d416d3076e92f',\n",
       " '9918d6af31d34c74b48abc0990b5c5e0',\n",
       " '6060ad8a145843a09c7fdc6478f2a855',\n",
       " '1282fa7835964a4aa44a268442b0fdb8',\n",
       " '76f48a5d7dcc4bbebb4f064bd74f5f72',\n",
       " 'efbe5ff1404e478384229ef694527ad2',\n",
       " '49e4997e7a134aa9876524f975580a4c',\n",
       " '071ed41916e14a8bb8a81302630c3684',\n",
       " '46f4bb7943fc469f92f18f10b4428f32',\n",
       " 'ab412fbc340b43bca5a6a8dc20b5f773',\n",
       " '91f80cc1a5354163a10f21bf2df7b9ff',\n",
       " '00364ba4e00043aa8ee64dd80b570176',\n",
       " 'b27345a1a7ff49c2af25d58eab6e0527',\n",
       " '69855b7be4834ed48fc7123c4b281b62',\n",
       " '8ff0d7945b1e4065afdd5a7bff446dab',\n",
       " 'b32640354b8a447b90046b3b218c37ef',\n",
       " '6754eb164ecb4615b158525930829201',\n",
       " 'f593d8bbccdc4188b9be6e74b2c87092',\n",
       " 'ff33437efe7545f2bcdb312f2209dba2',\n",
       " '7905d828239d4805be27b7a1c6c074a7',\n",
       " 'e81a51bbe4554eac882a79ec8db7df67',\n",
       " '47587fa384c64b9c9b37dda1f38eb4c1',\n",
       " '693c4ca97bf5471b9d7aef937b5691d8',\n",
       " 'e16ef58207064ad8a4d252dc9a1f71df',\n",
       " '02c0c05132fc40a8994c33afbdcfbc5d',\n",
       " '313c64789a7e4d59a53e72c1b3125ec5',\n",
       " '3ed5f09efb034c5f827b4c7787486883',\n",
       " '3d1f255f86a9403bbfef94eceee8d25b',\n",
       " '5964d0f0803f4c0eb321b585d82ea4f3',\n",
       " 'c0284447e2ae4be6955b5f6ac6924488',\n",
       " 'bbbe167415b34304b0d0732b03e61400',\n",
       " '9761ceb6a51f4a6da4e33f3f23429a81',\n",
       " '233bd23178ac414cbe8330a73aae424b',\n",
       " '3bc4f3ee0a884c41b483245ac9670dfb',\n",
       " 'c1b2389de92c426184f6a6ada220b83d',\n",
       " '82c47881f9264bfaac71f83d1fd30b4a',\n",
       " '6ee450f86802451489f8409927a5122f',\n",
       " 'bab988e88d834d21864c4d2d59b6165a',\n",
       " '6a1657c604e34f2a92ce774bf9684eed',\n",
       " '59a1b461edeb4b38b3e669f8fac3bb72',\n",
       " 'f428ed37b5b94578936311982b2efcd6',\n",
       " 'bdd86e9c83164f358a02c781da81641b',\n",
       " 'c81fdae6e95947e6950827ac06acf84c',\n",
       " 'c2b90d540de246bda5938969892fbdfa',\n",
       " 'a1acd0ecc9f042568c973107ad512dfd',\n",
       " 'bdc4f272ff3e4c98978bd441907c4bc0',\n",
       " '7985252d9df04d73aa84a0e90515ff78',\n",
       " 'e0dac8d74b6540aca52a59d72a2b7c4a',\n",
       " 'dbdeb87069e54a11a03add7bbb872bcf',\n",
       " '3fed89f8bcf54aa18ec211d497d62816',\n",
       " '46289ddf207d4ef58b97a701f03fdacf',\n",
       " '4017c92b626540f596385192fb8f9d8e',\n",
       " 'f95302b80f1248d885397aef39b47576',\n",
       " '07d5d3abc8284687afd01f32d7562046',\n",
       " 'c75867e298e24fe8a5fe0892b2114f37',\n",
       " '1769c942bec04b388ac0db0a375dca26',\n",
       " 'd1930832da634332b5abc7b7e89cedc8',\n",
       " 'e2f19991bc2e47c88a1461d4e55c3981',\n",
       " 'e8a356b50895489c839f2368d2f9ae3a',\n",
       " '46e74ff75ecd4de9a30322ad381b9877']"
      ]
     },
     "execution_count": 47,
     "metadata": {},
     "output_type": "execute_result"
    }
   ],
   "source": [
    "vstore.add_documents(docs)"
   ]
  },
  {
   "cell_type": "code",
   "execution_count": 48,
   "metadata": {},
   "outputs": [],
   "source": [
    "retriever = vstore.as_retriever(search_kwargs={\"k\": 3})"
   ]
  },
  {
   "cell_type": "code",
   "execution_count": 49,
   "metadata": {},
   "outputs": [
    {
     "name": "stderr",
     "output_type": "stream",
     "text": [
      "d:\\Anaconda\\envs\\finance\\lib\\site-packages\\langchain_core\\_api\\deprecation.py:139: LangChainDeprecationWarning: The method `BaseRetriever.get_relevant_documents` was deprecated in langchain-core 0.1.46 and will be removed in 0.3.0. Use invoke instead.\n",
      "  warn_deprecated(\n"
     ]
    },
    {
     "data": {
      "text/plain": [
       "[Document(page_content='market acceptance and recoup our costs, if at all. \\n• Our success depends upon our ability to effectively plan and ma nage our resources and restructure our business \\nthrough rapidly fluctuating economic and market conditions, whi ch actions may have an adverse effect on our \\nfinancial and operating results. \\n• Our business may be negatively im pacted by social, political, g eopolitical, economic instability, unrest, war,'),\n",
       " Document(page_content='“Risk Factors”. \\nSee our “Notes to Consolidated F inancial Statements”, included under Part II, Item 8. “Financial Statements and \\nSupplementary Data” for additional geographic information. \\nSales and Marketing \\nOur sales strategy is primarily  to pursue targeted accounts thr ough a combination of our direct sales force, our service \\nteams, and strategic alliances. After we are engaged by a custo mer and early in the services p rocess, our engineers seek to'),\n",
       " Document(page_content='the following discussion, and in M anagement’s Discussion and An alysis of Financial Condition and Results of Operations, \\nLegal Proceedings, and Quantitative and Qualitative Disclosures  About Market Risk. The occurrence of any of these risks \\nor additional risks and uncertainties not presently known to us  or that we currently believe to be immaterial could materially  \\nand adversely affect our business, operating results, financial  condition, and stock price. These risks and uncertainties')]"
      ]
     },
     "execution_count": 49,
     "metadata": {},
     "output_type": "execute_result"
    }
   ],
   "source": [
    "retriever.get_relevant_documents(\"what is Market For Registrant’s Common Equity?\")"
   ]
  },
  {
   "cell_type": "code",
   "execution_count": 50,
   "metadata": {},
   "outputs": [],
   "source": [
    "PRODUCT_BOT_TEMPLATE = \"\"\"\n",
    "    Your finance bot is an expert in finance related advice.\n",
    "    Ensure your answers are relevant to the query context and refrain from straying off-topic.\n",
    "    Your responses should be concise and informative.\n",
    "\n",
    "    CONTEXT:\n",
    "    {context}\n",
    "\n",
    "    QUESTION: {question}\n",
    "\n",
    "    YOUR ANSWER:\n",
    "    \n",
    "    \"\"\""
   ]
  },
  {
   "cell_type": "code",
   "execution_count": 51,
   "metadata": {},
   "outputs": [],
   "source": [
    "from langchain_core.prompts import ChatPromptTemplate"
   ]
  },
  {
   "cell_type": "code",
   "execution_count": 52,
   "metadata": {},
   "outputs": [],
   "source": [
    "prompt = ChatPromptTemplate.from_template(PRODUCT_BOT_TEMPLATE)"
   ]
  },
  {
   "cell_type": "code",
   "execution_count": 53,
   "metadata": {},
   "outputs": [],
   "source": [
    "from langchain_openai import ChatOpenAI"
   ]
  },
  {
   "cell_type": "code",
   "execution_count": 54,
   "metadata": {},
   "outputs": [],
   "source": [
    "llm = ChatOpenAI()"
   ]
  },
  {
   "cell_type": "code",
   "execution_count": 55,
   "metadata": {},
   "outputs": [],
   "source": [
    "from langchain_core.runnables import RunnablePassthrough"
   ]
  },
  {
   "cell_type": "code",
   "execution_count": 56,
   "metadata": {},
   "outputs": [],
   "source": [
    "from langchain_core.output_parsers import StrOutputParser"
   ]
  },
  {
   "cell_type": "code",
   "execution_count": 57,
   "metadata": {},
   "outputs": [],
   "source": [
    "chain = (\n",
    "        {\"context\": retriever, \"question\": RunnablePassthrough()}\n",
    "        | prompt\n",
    "        | llm\n",
    "        | StrOutputParser()\n",
    "    )"
   ]
  },
  {
   "cell_type": "code",
   "execution_count": 58,
   "metadata": {},
   "outputs": [
    {
     "data": {
      "text/plain": [
       "\"The Market for Registrant's Common Equity refers to the market where the company's common stock is bought and sold by investors. This market reflects the current value and demand for the company's shares. It is an important indicator of investor sentiment and can impact the company's overall financial health.\""
      ]
     },
     "execution_count": 58,
     "metadata": {},
     "output_type": "execute_result"
    }
   ],
   "source": [
    "chain.invoke(\"what is Market For Registrant’s Common Equity?\")"
   ]
  },
  {
   "cell_type": "markdown",
   "metadata": {},
   "source": [
    "\"Market for Registrant’s Common Equity refers to the overall market conditions and trends that impact the buying and selling of a company's common stock. This includes factors such as supply and demand, investor sentiment, economic conditions, and company performance. It is important for investors to monitor the market for Registrant’s Common Equity in order to make informed decisions about buying, selling, or holding onto a company's stock.\""
   ]
  },
  {
   "cell_type": "markdown",
   "metadata": {},
   "source": [
    "Runnable to passthrough inputs unchanged or with additional keys.\n",
    "\n",
    "    This runnable behaves almost like the identity function, except that it\n",
    "    can be configured to add additional keys to the output, if the input is a\n",
    "    dict.\n",
    "\n",
    "    The examples below demonstrate this Runnable works using a few simple\n",
    "    chains. The chains rely on simple lambdas to make the examples easy to execute\n",
    "    and experiment with.\n"
   ]
  },
  {
   "cell_type": "code",
   "execution_count": null,
   "metadata": {},
   "outputs": [],
   "source": []
  }
 ],
 "metadata": {
  "kernelspec": {
   "display_name": "Python 3",
   "language": "python",
   "name": "python3"
  },
  "language_info": {
   "codemirror_mode": {
    "name": "ipython",
    "version": 3
   },
   "file_extension": ".py",
   "mimetype": "text/x-python",
   "name": "python",
   "nbconvert_exporter": "python",
   "pygments_lexer": "ipython3",
   "version": "3.10.14"
  }
 },
 "nbformat": 4,
 "nbformat_minor": 2
}
